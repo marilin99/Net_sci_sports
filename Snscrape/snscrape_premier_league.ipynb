{
 "cells": [
  {
   "cell_type": "markdown",
   "id": "c1496691",
   "metadata": {},
   "source": [
    "**Code template provided by Rahul Goel*"
   ]
  },
  {
   "cell_type": "code",
   "execution_count": null,
   "id": "78602c80",
   "metadata": {},
   "outputs": [],
   "source": [
    "#!pip install git+https://github.com/JustAnotherArchivist/snscrape.git"
   ]
  },
  {
   "cell_type": "code",
   "execution_count": null,
   "id": "d5fb6440",
   "metadata": {},
   "outputs": [],
   "source": [
    "# Import required packages\n",
    "import snscrape.modules.twitter as sntwitter\n",
    "import pandas as pd\n",
    "import time\n",
    "import datetime"
   ]
  },
  {
   "cell_type": "code",
   "execution_count": null,
   "id": "aef2614a",
   "metadata": {},
   "outputs": [],
   "source": [
    "# List of Twitter hashtags/keywords\n",
    "keyword = [\"premier league\"]"
   ]
  },
  {
   "cell_type": "code",
   "execution_count": null,
   "id": "c10979d2",
   "metadata": {},
   "outputs": [],
   "source": [
    "# List of start and end dates\n",
    "start = datetime.datetime.strptime(\"2019-05-11\", \"%Y-%m-%d\")  #\"2018-08-09\"\n",
    "end = datetime.datetime.strptime(\"2019-05-14\", \"%Y-%m-%d\")    #\"2018-08-12\"\n",
    "date_generated = pd.date_range(start, end)\n",
    "date_generated = date_generated.strftime(\"%Y-%m-%d\").tolist()"
   ]
  },
  {
   "cell_type": "code",
   "execution_count": null,
   "id": "b2bef185",
   "metadata": {},
   "outputs": [],
   "source": [
    "for key in keyword:\n",
    "    print(key)\n",
    "    for i in range(len(date_generated)-1):\n",
    "        start, end = date_generated[i], date_generated[i+1]\n",
    "\n",
    "        # Creating list to append tweet data to\n",
    "        tweets_list2 = []\n",
    "\n",
    "        try:\n",
    "            # Using TwitterSearchScraper to scrape data and append tweets to list\n",
    "            for i,tweet in enumerate(sntwitter.TwitterSearchScraper(key+' since:'+start+' until:'+end + 'lang:en').get_items()):\n",
    "                tweets_list2.append([tweet.url, \n",
    "                                     tweet.date, \n",
    "                                     tweet.content, \n",
    "                                     tweet.id, \n",
    "                                     tweet.user.username, \n",
    "                                     tweet.user.id, \n",
    "                                     tweet.user.description, \n",
    "                                     tweet.user.displayname, \n",
    "                                     tweet.user.verified, \n",
    "                                     tweet.user.created, \n",
    "                                     tweet.user.followersCount, \n",
    "                                     tweet.user.friendsCount, \n",
    "                                     tweet.user.statusesCount, \n",
    "                                     tweet.user.favouritesCount, \n",
    "                                     tweet.user.listedCount, \n",
    "                                     tweet.user.mediaCount, \n",
    "                                     tweet.user.location, \n",
    "                                     tweet.user.protected, \n",
    "                                     tweet.replyCount, \n",
    "                                     tweet.retweetCount, \n",
    "                                     tweet.likeCount, \n",
    "                                     tweet.quoteCount, \n",
    "                                     tweet.lang, \n",
    "                                     tweet.sourceLabel, \n",
    "                                     tweet.inReplyToTweetId, \n",
    "                                     tweet.conversationId, \n",
    "                                     tweet.media, \n",
    "                                     tweet.coordinates, \n",
    "                                     tweet.place, \n",
    "                                     tweet.hashtags, \n",
    "                                     tweet.cashtags])\n",
    "\n",
    "            # Creating a dataframe from the tweets list above\n",
    "            tweets_df2 = pd.DataFrame(tweets_list2, columns=['Tweet_url','Datetime', 'Text', 'Tweet Id', 'Username', 'User_id', 'Description', 'Display_name', 'Verified', 'Created_at', 'Followers_count',\n",
    "                                                            'Friends_count', 'Status_count', 'Favourite_count', 'Listed_count', 'Media_count', 'Location', 'Protected', 'Reply_count', 'Retweet_count',\n",
    "                                                            'Like_count', 'Quote_count', 'Lang', 'Source_label', 'inReplyToTweetId', 'conversationId', 'Media', 'Coordinates', 'Place', 'Hashtags', 'Cashtags'])\n",
    "            #file_name = key.replace(\" \", \"_\")\n",
    "            tweets_df2.to_csv('../Data/premier_league_'+start+'.csv', index=False) #File with 1-day data\n",
    "\n",
    "        except Exception as e:\n",
    "         # ... PRINT THE ERROR MESSAGE ... #\n",
    "            print(e)\n",
    "            time.sleep(5*60) #5 min sleep"
   ]
  }
 ],
 "metadata": {
  "kernelspec": {
   "display_name": "Python 3",
   "language": "python",
   "name": "python3"
  },
  "language_info": {
   "codemirror_mode": {
    "name": "ipython",
    "version": 3
   },
   "file_extension": ".py",
   "mimetype": "text/x-python",
   "name": "python",
   "nbconvert_exporter": "python",
   "pygments_lexer": "ipython3",
   "version": "3.8.1"
  }
 },
 "nbformat": 4,
 "nbformat_minor": 5
}
