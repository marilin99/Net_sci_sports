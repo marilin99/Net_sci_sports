{
 "cells": [
  {
   "cell_type": "markdown",
   "metadata": {},
   "source": [
    "# Retrieving conversations"
   ]
  },
  {
   "cell_type": "code",
   "execution_count": null,
   "metadata": {},
   "outputs": [],
   "source": [
    "import pandas as pd\n",
    "import snscrape.modules.twitter as sntwitter\n",
    "from tqdm import tqdm, notebook"
   ]
  },
  {
   "cell_type": "markdown",
   "metadata": {},
   "source": [
    "### Getting original data"
   ]
  },
  {
   "cell_type": "markdown",
   "metadata": {},
   "source": [
    "Function to retrieve inital scraped tweet data oranized by date"
   ]
  },
  {
   "cell_type": "code",
   "execution_count": null,
   "metadata": {},
   "outputs": [],
   "source": [
    "def get_inital_data(date):\n",
    "    print('Starting with date:', date, '\\n')\n",
    "    df = pd.read_csv('../Data/premier_league_' + date + '.csv')\n",
    "    df = df[(df['Reply_count'] > 0) & (df['inReplyToTweetId'].isna())]\n",
    "    return df"
   ]
  },
  {
   "cell_type": "markdown",
   "metadata": {},
   "source": [
    "### Retrieving conversation info"
   ]
  },
  {
   "cell_type": "markdown",
   "metadata": {},
   "source": [
    "Function to recursively retrieve info about tweets belonging to the same conversations (by conversation id)"
   ]
  },
  {
   "cell_type": "code",
   "execution_count": null,
   "metadata": {},
   "outputs": [],
   "source": [
    "def retrieve_conversations(c, total=10):  \n",
    "    smode = sntwitter.TwitterTweetScraperMode.RECURSE\n",
    "    if c not in retrieved_conversations:\n",
    "        #print(len(retrieved_conversations),'/',total)\n",
    "        retrieved_conversations.append(c)\n",
    "        try:\n",
    "            for i,tweet in enumerate(sntwitter.TwitterTweetScraper(tweetId=c, mode=smode).get_items()):\n",
    "                if tweet.lang=='en':\n",
    "                    conversations[(c,i)] = {\n",
    "                        'tweetId': tweet.id,\n",
    "                        'content': tweet.content, \n",
    "                        'userId':  tweet.user.id\n",
    "                    }\n",
    "\n",
    "        except Exception:\n",
    "            print(\"!!! Some Tweets were not retrieved for conversation\", c, \"!!!\\n\")\n",
    "            incomplete_conv.append(c)"
   ]
  },
  {
   "cell_type": "markdown",
   "metadata": {},
   "source": [
    "### Saving the results to file"
   ]
  },
  {
   "cell_type": "markdown",
   "metadata": {},
   "source": [
    "Converting conversation dictionary to a dataframe and saving it to a csv file"
   ]
  },
  {
   "cell_type": "code",
   "execution_count": null,
   "metadata": {},
   "outputs": [],
   "source": [
    "def df_to_file(date, conversations):\n",
    "    df_conversations = pd.DataFrame.from_dict(conversations, orient='index', \n",
    "        columns=['tweetId', 'content', 'userId']).reset_index()\n",
    "    df_conversations.rename(columns = {'level_0':'conversation_id', 'level_1':'conv_indx'}, inplace = True)\n",
    "\n",
    "    # To file\n",
    "    df_conversations.to_csv('../Data/conversations_'+date+'.csv', index=False)\n",
    "    print('Finished with date ' + date + '\\n\\n\\n')"
   ]
  },
  {
   "cell_type": "code",
   "execution_count": null,
   "metadata": {},
   "outputs": [],
   "source": [
    "# Initialize variables that are used for retrieval\n",
    "retrieved_conversations = []\n",
    "conversations = {}\n",
    "incomplete_conv = []\n",
    "notebook.tqdm.pandas()\n",
    "\n",
    "\n",
    "# Specify dates (for files) \n",
    "dates = ['2018-08-10','2018-08-11','2019-05-11','2019-05-12','2019-05-13'] #['2018-08-09'] \n",
    "\n",
    "for d in dates:\n",
    "    data = get_inital_data(d)\n",
    "    uniq_conv = len(data.conversationId.unique())\n",
    "    print(\"There are\", uniq_conv , \"unique conversation Id's\")\n",
    "    print('Retrieving conversations:')\n",
    "    data['conversationId'].progress_apply(retrieve_conversations)\n",
    "    df_to_file(d, conversations)"
   ]
  },
  {
   "cell_type": "code",
   "execution_count": null,
   "metadata": {},
   "outputs": [],
   "source": [
    "ic = pd.DataFrame({'incomplete': incomplete_conv})\n",
    "ic.head()\n",
    "ic.to_csv('../Data/incomplete.csv', index=False)"
   ]
  },
  {
   "cell_type": "code",
   "execution_count": null,
   "metadata": {},
   "outputs": [],
   "source": []
  }
 ],
 "metadata": {
  "interpreter": {
   "hash": "9990c6f5bd38b0ce6894d43de2eb6ab098c2a4ce77bccaedfa2a00aa9a680a81"
  },
  "kernelspec": {
   "display_name": "Python 3.8.1 ('twitter')",
   "language": "python",
   "name": "python3"
  },
  "language_info": {
   "codemirror_mode": {
    "name": "ipython",
    "version": 3
   },
   "file_extension": ".py",
   "mimetype": "text/x-python",
   "name": "python",
   "nbconvert_exporter": "python",
   "pygments_lexer": "ipython3",
   "version": "3.8.1"
  },
  "orig_nbformat": 4
 },
 "nbformat": 4,
 "nbformat_minor": 2
}
