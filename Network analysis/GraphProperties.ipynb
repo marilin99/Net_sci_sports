{
 "cells": [
  {
   "cell_type": "code",
   "execution_count": null,
   "metadata": {},
   "outputs": [],
   "source": [
    "#!brew install libcairo2-dev pkg-config python3-dev\n",
    "#!pip install cairocffi\n",
    "#!pip install python-igraph==0.8.3"
   ]
  },
  {
   "cell_type": "code",
   "execution_count": null,
   "metadata": {},
   "outputs": [],
   "source": [
    "import pandas as pd\n",
    "import networkx as nx\n",
    "from GraphProperties import * \n",
    "from FileHelper import * \n",
    "%matplotlib inline"
   ]
  },
  {
   "cell_type": "markdown",
   "metadata": {},
   "source": [
    "### **Input**"
   ]
  },
  {
   "cell_type": "code",
   "execution_count": null,
   "metadata": {},
   "outputs": [],
   "source": [
    "source = './Data/2019-05-12.csv' # './Data/2018-08-10.csv'\n",
    "tdate = '12May'                  # '10August' \n",
    "df = pd.read_csv(source)\n",
    "df.head(1)"
   ]
  },
  {
   "cell_type": "markdown",
   "metadata": {},
   "source": [
    "**Split by sentiment**"
   ]
  },
  {
   "cell_type": "code",
   "execution_count": null,
   "metadata": {},
   "outputs": [],
   "source": [
    "#0:neu, 2:pos, 1:neg\n",
    "pos = df[df['sentiment']==2]\n",
    "neg = df[df['sentiment']==1]\n",
    "neu = df[df['sentiment']==0]"
   ]
  },
  {
   "cell_type": "markdown",
   "metadata": {},
   "source": [
    "#### **1. Graphs**"
   ]
  },
  {
   "cell_type": "code",
   "execution_count": null,
   "metadata": {},
   "outputs": [],
   "source": [
    "full = nx.from_pandas_edgelist(df, source= \"source\", target= \"target\",edge_attr=True,create_using=nx.DiGraph())\n",
    "positive = nx.from_pandas_edgelist(pos, source= \"source\", target= \"target\",edge_attr=True,create_using=nx.DiGraph())\n",
    "negative = nx.from_pandas_edgelist(neg, source= \"source\", target= \"target\",edge_attr=True,create_using=nx.DiGraph())\n",
    "neutral = nx.from_pandas_edgelist(neu, source= \"source\", target= \"target\",edge_attr=True,create_using=nx.DiGraph())"
   ]
  },
  {
   "cell_type": "markdown",
   "metadata": {},
   "source": [
    "##### ****Save sentiment graps to file***"
   ]
  },
  {
   "cell_type": "code",
   "execution_count": null,
   "metadata": {},
   "outputs": [],
   "source": [
    "path = 'Data/SentimentGraphs/'\n",
    "drop_sentiment(pos).to_csv(path+'pos' + tdate + '.csv', index=False)\n",
    "drop_sentiment(neg).to_csv(path+'neg' + tdate + '.csv', index=False)\n",
    "drop_sentiment(neu).to_csv(path+'neu' + tdate + '.csv', index=False)"
   ]
  },
  {
   "cell_type": "markdown",
   "metadata": {},
   "source": [
    "#### **2. Properties**"
   ]
  },
  {
   "cell_type": "code",
   "execution_count": null,
   "metadata": {},
   "outputs": [],
   "source": [
    "info = pd.concat([graph_info(positive, 'Positive'), graph_info(negative, 'Negative'), graph_info(neutral, 'Neutral'), graph_info(full)], ignore_index=True)\n",
    "info.style.hide_index()"
   ]
  },
  {
   "cell_type": "code",
   "execution_count": null,
   "metadata": {},
   "outputs": [],
   "source": [
    "full_properties = net_prop_dict(full, 'Full')\n",
    "pos_properties = net_prop_dict(positive, 'Positive')\n",
    "neg_properties = net_prop_dict(negative, 'Negative')\n",
    "neu_properties = net_prop_dict(neutral, 'Neutral')\n",
    "df_properties =  pd.DataFrame.from_records([pos_properties, neg_properties, neu_properties, full_properties])\n",
    "df_properties.style.hide_index()"
   ]
  },
  {
   "cell_type": "code",
   "execution_count": null,
   "metadata": {},
   "outputs": [],
   "source": [
    "properties = info.join(df_properties.set_index('Name'), on='Name')\n",
    "properties"
   ]
  },
  {
   "cell_type": "markdown",
   "metadata": {},
   "source": [
    "***To fail***"
   ]
  },
  {
   "cell_type": "code",
   "execution_count": null,
   "metadata": {},
   "outputs": [],
   "source": [
    "properties.to_csv('Properties/' + tdate + '.csv', index=False)"
   ]
  },
  {
   "cell_type": "markdown",
   "metadata": {},
   "source": [
    "-------"
   ]
  },
  {
   "cell_type": "markdown",
   "metadata": {},
   "source": [
    "#### **3. K cores**"
   ]
  },
  {
   "cell_type": "code",
   "execution_count": null,
   "metadata": {},
   "outputs": [],
   "source": [
    "full_10 = to_k_core(full)\n",
    "pos_10 = to_k_core(positive)\n",
    "neg_10 = to_k_core(negative)\n",
    "neu_10 = to_k_core(neutral)"
   ]
  },
  {
   "cell_type": "code",
   "execution_count": null,
   "metadata": {},
   "outputs": [],
   "source": [
    "core_to_file(full_10, 'full(10)_' + tdate)\n",
    "core_to_file(pos_10, 'pos(10)_'+ tdate)\n",
    "core_to_file(neg_10, 'neg(10)_'+ tdate)\n",
    "core_to_file(neu_10, 'neu(10)_'+ tdate)"
   ]
  },
  {
   "cell_type": "markdown",
   "metadata": {},
   "source": [
    "--------"
   ]
  }
 ],
 "metadata": {
  "interpreter": {
   "hash": "9875ef4d12ed64a86db83005ea8ab8b9688b2479ace70cfe1ecd436b96a4dbe3"
  },
  "kernelspec": {
   "display_name": "Python 3.6.13 ('networks.3.7.13')",
   "language": "python",
   "name": "python3"
  },
  "language_info": {
   "codemirror_mode": {
    "name": "ipython",
    "version": 3
   },
   "file_extension": ".py",
   "mimetype": "text/x-python",
   "name": "python",
   "nbconvert_exporter": "python",
   "pygments_lexer": "ipython3",
   "version": "3.6.13"
  },
  "orig_nbformat": 4
 },
 "nbformat": 4,
 "nbformat_minor": 2
}
