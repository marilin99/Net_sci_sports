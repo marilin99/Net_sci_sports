{
 "cells": [
  {
   "cell_type": "code",
   "execution_count": null,
   "metadata": {},
   "outputs": [],
   "source": [
    "#!brew install libcairo2-dev pkg-config python3-dev\n",
    "#!pip install cairocffi\n",
    "#!pip install python-igraph==0.8.3"
   ]
  },
  {
   "cell_type": "code",
   "execution_count": 1,
   "metadata": {},
   "outputs": [],
   "source": [
    "import pandas as pd\n",
    "import numpy as np\n",
    "import networkx as nx\n",
    "import matplotlib.pyplot as plt #For plotting graphs\n",
    "from GraphProperties import * \n",
    "%matplotlib inline\n"
   ]
  },
  {
   "cell_type": "markdown",
   "metadata": {},
   "source": [
    "### **Input**"
   ]
  },
  {
   "cell_type": "code",
   "execution_count": 2,
   "metadata": {},
   "outputs": [
    {
     "data": {
      "text/html": [
       "<div>\n",
       "<style scoped>\n",
       "    .dataframe tbody tr th:only-of-type {\n",
       "        vertical-align: middle;\n",
       "    }\n",
       "\n",
       "    .dataframe tbody tr th {\n",
       "        vertical-align: top;\n",
       "    }\n",
       "\n",
       "    .dataframe thead th {\n",
       "        text-align: right;\n",
       "    }\n",
       "</style>\n",
       "<table border=\"1\" class=\"dataframe\">\n",
       "  <thead>\n",
       "    <tr style=\"text-align: right;\">\n",
       "      <th></th>\n",
       "      <th>source</th>\n",
       "      <th>target</th>\n",
       "      <th>sentiment</th>\n",
       "      <th>weight</th>\n",
       "    </tr>\n",
       "  </thead>\n",
       "  <tbody>\n",
       "    <tr>\n",
       "      <th>0</th>\n",
       "      <td>885.0</td>\n",
       "      <td>718043.0</td>\n",
       "      <td>1</td>\n",
       "      <td>1</td>\n",
       "    </tr>\n",
       "  </tbody>\n",
       "</table>\n",
       "</div>"
      ],
      "text/plain": [
       "   source    target  sentiment  weight\n",
       "0   885.0  718043.0          1       1"
      ]
     },
     "execution_count": 2,
     "metadata": {},
     "output_type": "execute_result"
    }
   ],
   "source": [
    "source = './graph_csv/graph_conversations_2019-05-12.csv'\n",
    "#'./graph_csv/graph_conversations_2018-08-10.csv'\n",
    "df = pd.read_csv(source)\n",
    "df.head(1)"
   ]
  },
  {
   "cell_type": "markdown",
   "metadata": {},
   "source": [
    "**Split by sentiment**"
   ]
  },
  {
   "cell_type": "code",
   "execution_count": 4,
   "metadata": {},
   "outputs": [],
   "source": [
    "#0:neu, 2:pos, 1:neg\n",
    "pos = df[df['sentiment']==2]\n",
    "neg = df[df['sentiment']==1]\n",
    "neu = df[df['sentiment']==0]"
   ]
  },
  {
   "cell_type": "markdown",
   "metadata": {},
   "source": [
    "#### **1. Graphs**"
   ]
  },
  {
   "cell_type": "code",
   "execution_count": 5,
   "metadata": {},
   "outputs": [],
   "source": [
    "full = nx.from_pandas_edgelist(df, source= \"source\", target= \"target\",edge_attr=True,create_using=nx.DiGraph())\n",
    "positive = nx.from_pandas_edgelist(pos, source= \"source\", target= \"target\",edge_attr=True,create_using=nx.DiGraph())\n",
    "negative = nx.from_pandas_edgelist(neg, source= \"source\", target= \"target\",edge_attr=True,create_using=nx.DiGraph())\n",
    "neutral = nx.from_pandas_edgelist(neu, source= \"source\", target= \"target\",edge_attr=True,create_using=nx.DiGraph())"
   ]
  },
  {
   "cell_type": "markdown",
   "metadata": {},
   "source": [
    "##### ****Save sentiment graps to file***"
   ]
  },
  {
   "cell_type": "code",
   "execution_count": 18,
   "metadata": {},
   "outputs": [],
   "source": [
    "pos.to_csv('SentimentGraphs/pos12may.csv', index=False) #'SentimentGraphs/pos10August.csv'\n",
    "neg.to_csv('SentimentGraphs/neg12may.csv', index=False) #'SentimentGraphs/neg10August.csv'\n",
    "neu.to_csv('SentimentGraphs/neu12may.csv', index=False) #'SentimentGraphs/neu0August.csv'"
   ]
  },
  {
   "cell_type": "markdown",
   "metadata": {},
   "source": [
    "#### **2. Properties**"
   ]
  },
  {
   "cell_type": "code",
   "execution_count": 6,
   "metadata": {},
   "outputs": [
    {
     "data": {
      "text/html": [
       "<style  type=\"text/css\" >\n",
       "</style><table id=\"T_5984649a_d45b_11ec_a704_7210d2066666\" ><thead>    <tr>        <th class=\"col_heading level0 col0\" >Name</th>        <th class=\"col_heading level0 col1\" >Type</th>        <th class=\"col_heading level0 col2\" >Number of nodes</th>        <th class=\"col_heading level0 col3\" >Number of edges</th>        <th class=\"col_heading level0 col4\" >Average in degree</th>        <th class=\"col_heading level0 col5\" >Average out degree</th>    </tr></thead><tbody>\n",
       "                <tr>\n",
       "                                <td id=\"T_5984649a_d45b_11ec_a704_7210d2066666row0_col0\" class=\"data row0 col0\" >Positive</td>\n",
       "                        <td id=\"T_5984649a_d45b_11ec_a704_7210d2066666row0_col1\" class=\"data row0 col1\" >DiGraph</td>\n",
       "                        <td id=\"T_5984649a_d45b_11ec_a704_7210d2066666row0_col2\" class=\"data row0 col2\" >64450</td>\n",
       "                        <td id=\"T_5984649a_d45b_11ec_a704_7210d2066666row0_col3\" class=\"data row0 col3\" >1918198</td>\n",
       "                        <td id=\"T_5984649a_d45b_11ec_a704_7210d2066666row0_col4\" class=\"data row0 col4\" > 29.7626</td>\n",
       "                        <td id=\"T_5984649a_d45b_11ec_a704_7210d2066666row0_col5\" class=\"data row0 col5\" > 29.7626</td>\n",
       "            </tr>\n",
       "            <tr>\n",
       "                                <td id=\"T_5984649a_d45b_11ec_a704_7210d2066666row1_col0\" class=\"data row1 col0\" >Negative</td>\n",
       "                        <td id=\"T_5984649a_d45b_11ec_a704_7210d2066666row1_col1\" class=\"data row1 col1\" >DiGraph</td>\n",
       "                        <td id=\"T_5984649a_d45b_11ec_a704_7210d2066666row1_col2\" class=\"data row1 col2\" >60932</td>\n",
       "                        <td id=\"T_5984649a_d45b_11ec_a704_7210d2066666row1_col3\" class=\"data row1 col3\" >1449678</td>\n",
       "                        <td id=\"T_5984649a_d45b_11ec_a704_7210d2066666row1_col4\" class=\"data row1 col4\" > 23.7917</td>\n",
       "                        <td id=\"T_5984649a_d45b_11ec_a704_7210d2066666row1_col5\" class=\"data row1 col5\" > 23.7917</td>\n",
       "            </tr>\n",
       "            <tr>\n",
       "                                <td id=\"T_5984649a_d45b_11ec_a704_7210d2066666row2_col0\" class=\"data row2 col0\" >Neutral</td>\n",
       "                        <td id=\"T_5984649a_d45b_11ec_a704_7210d2066666row2_col1\" class=\"data row2 col1\" >DiGraph</td>\n",
       "                        <td id=\"T_5984649a_d45b_11ec_a704_7210d2066666row2_col2\" class=\"data row2 col2\" >64152</td>\n",
       "                        <td id=\"T_5984649a_d45b_11ec_a704_7210d2066666row2_col3\" class=\"data row2 col3\" >1792056</td>\n",
       "                        <td id=\"T_5984649a_d45b_11ec_a704_7210d2066666row2_col4\" class=\"data row2 col4\" > 27.9345</td>\n",
       "                        <td id=\"T_5984649a_d45b_11ec_a704_7210d2066666row2_col5\" class=\"data row2 col5\" > 27.9345</td>\n",
       "            </tr>\n",
       "            <tr>\n",
       "                                <td id=\"T_5984649a_d45b_11ec_a704_7210d2066666row3_col0\" class=\"data row3 col0\" >Full</td>\n",
       "                        <td id=\"T_5984649a_d45b_11ec_a704_7210d2066666row3_col1\" class=\"data row3 col1\" >DiGraph</td>\n",
       "                        <td id=\"T_5984649a_d45b_11ec_a704_7210d2066666row3_col2\" class=\"data row3 col2\" >72403</td>\n",
       "                        <td id=\"T_5984649a_d45b_11ec_a704_7210d2066666row3_col3\" class=\"data row3 col3\" >3525298</td>\n",
       "                        <td id=\"T_5984649a_d45b_11ec_a704_7210d2066666row3_col4\" class=\"data row3 col4\" > 48.6899</td>\n",
       "                        <td id=\"T_5984649a_d45b_11ec_a704_7210d2066666row3_col5\" class=\"data row3 col5\" > 48.6899</td>\n",
       "            </tr>\n",
       "    </tbody></table>"
      ],
      "text/plain": [
       "<pandas.io.formats.style.Styler at 0x7fa391cbfc50>"
      ]
     },
     "execution_count": 6,
     "metadata": {},
     "output_type": "execute_result"
    }
   ],
   "source": [
    "info = pd.concat([graph_info(positive, 'Positive'), graph_info(negative, 'Negative'), graph_info(neutral, 'Neutral'), graph_info(full)], ignore_index=True)\n",
    "info.style.hide_index()"
   ]
  },
  {
   "cell_type": "code",
   "execution_count": 7,
   "metadata": {},
   "outputs": [
    {
     "data": {
      "text/html": [
       "<style  type=\"text/css\" >\n",
       "</style><table id=\"T_2fd5e5fe_d45d_11ec_abc4_7210d2066666\" ><thead>    <tr>        <th class=\"col_heading level0 col0\" >Name</th>        <th class=\"col_heading level0 col1\" >Reciprocity</th>        <th class=\"col_heading level0 col2\" >Transitivity</th>        <th class=\"col_heading level0 col3\" >Average_clustering</th>        <th class=\"col_heading level0 col4\" >Edge_density</th>        <th class=\"col_heading level0 col5\" >No_strongly_connected_components</th>        <th class=\"col_heading level0 col6\" >No_weakly_connected_components</th>    </tr></thead><tbody>\n",
       "                <tr>\n",
       "                                <td id=\"T_2fd5e5fe_d45d_11ec_abc4_7210d2066666row0_col0\" class=\"data row0 col0\" >Positive</td>\n",
       "                        <td id=\"T_2fd5e5fe_d45d_11ec_abc4_7210d2066666row0_col1\" class=\"data row0 col1\" >0.140961</td>\n",
       "                        <td id=\"T_2fd5e5fe_d45d_11ec_abc4_7210d2066666row0_col2\" class=\"data row0 col2\" >0.368548</td>\n",
       "                        <td id=\"T_2fd5e5fe_d45d_11ec_abc4_7210d2066666row0_col3\" class=\"data row0 col3\" >0.452515</td>\n",
       "                        <td id=\"T_2fd5e5fe_d45d_11ec_abc4_7210d2066666row0_col4\" class=\"data row0 col4\" >0.000462</td>\n",
       "                        <td id=\"T_2fd5e5fe_d45d_11ec_abc4_7210d2066666row0_col5\" class=\"data row0 col5\" >40622</td>\n",
       "                        <td id=\"T_2fd5e5fe_d45d_11ec_abc4_7210d2066666row0_col6\" class=\"data row0 col6\" >3587</td>\n",
       "            </tr>\n",
       "            <tr>\n",
       "                                <td id=\"T_2fd5e5fe_d45d_11ec_abc4_7210d2066666row1_col0\" class=\"data row1 col0\" >Negative</td>\n",
       "                        <td id=\"T_2fd5e5fe_d45d_11ec_abc4_7210d2066666row1_col1\" class=\"data row1 col1\" >0.139159</td>\n",
       "                        <td id=\"T_2fd5e5fe_d45d_11ec_abc4_7210d2066666row1_col2\" class=\"data row1 col2\" >0.409590</td>\n",
       "                        <td id=\"T_2fd5e5fe_d45d_11ec_abc4_7210d2066666row1_col3\" class=\"data row1 col3\" >0.463884</td>\n",
       "                        <td id=\"T_2fd5e5fe_d45d_11ec_abc4_7210d2066666row1_col4\" class=\"data row1 col4\" >0.000390</td>\n",
       "                        <td id=\"T_2fd5e5fe_d45d_11ec_abc4_7210d2066666row1_col5\" class=\"data row1 col5\" >44232</td>\n",
       "                        <td id=\"T_2fd5e5fe_d45d_11ec_abc4_7210d2066666row1_col6\" class=\"data row1 col6\" >2849</td>\n",
       "            </tr>\n",
       "            <tr>\n",
       "                                <td id=\"T_2fd5e5fe_d45d_11ec_abc4_7210d2066666row2_col0\" class=\"data row2 col0\" >Neutral</td>\n",
       "                        <td id=\"T_2fd5e5fe_d45d_11ec_abc4_7210d2066666row2_col1\" class=\"data row2 col1\" >0.128269</td>\n",
       "                        <td id=\"T_2fd5e5fe_d45d_11ec_abc4_7210d2066666row2_col2\" class=\"data row2 col2\" >0.366235</td>\n",
       "                        <td id=\"T_2fd5e5fe_d45d_11ec_abc4_7210d2066666row2_col3\" class=\"data row2 col3\" >0.443681</td>\n",
       "                        <td id=\"T_2fd5e5fe_d45d_11ec_abc4_7210d2066666row2_col4\" class=\"data row2 col4\" >0.000435</td>\n",
       "                        <td id=\"T_2fd5e5fe_d45d_11ec_abc4_7210d2066666row2_col5\" class=\"data row2 col5\" >41534</td>\n",
       "                        <td id=\"T_2fd5e5fe_d45d_11ec_abc4_7210d2066666row2_col6\" class=\"data row2 col6\" >3461</td>\n",
       "            </tr>\n",
       "            <tr>\n",
       "                                <td id=\"T_2fd5e5fe_d45d_11ec_abc4_7210d2066666row3_col0\" class=\"data row3 col0\" >Full</td>\n",
       "                        <td id=\"T_2fd5e5fe_d45d_11ec_abc4_7210d2066666row3_col1\" class=\"data row3 col1\" >0.184480</td>\n",
       "                        <td id=\"T_2fd5e5fe_d45d_11ec_abc4_7210d2066666row3_col2\" class=\"data row3 col2\" >0.352361</td>\n",
       "                        <td id=\"T_2fd5e5fe_d45d_11ec_abc4_7210d2066666row3_col3\" class=\"data row3 col3\" >0.469645</td>\n",
       "                        <td id=\"T_2fd5e5fe_d45d_11ec_abc4_7210d2066666row3_col4\" class=\"data row3 col4\" >0.000672</td>\n",
       "                        <td id=\"T_2fd5e5fe_d45d_11ec_abc4_7210d2066666row3_col5\" class=\"data row3 col5\" >19845</td>\n",
       "                        <td id=\"T_2fd5e5fe_d45d_11ec_abc4_7210d2066666row3_col6\" class=\"data row3 col6\" >5519</td>\n",
       "            </tr>\n",
       "    </tbody></table>"
      ],
      "text/plain": [
       "<pandas.io.formats.style.Styler at 0x7fa227c07c88>"
      ]
     },
     "execution_count": 7,
     "metadata": {},
     "output_type": "execute_result"
    }
   ],
   "source": [
    "full_properties = net_prop_dict(full, 'Full')\n",
    "pos_properties = net_prop_dict(positive, 'Positive')\n",
    "neg_properties = net_prop_dict(negative, 'Negative')\n",
    "neu_properties = net_prop_dict(neutral, 'Neutral')\n",
    "df_properties =  pd.DataFrame.from_records([pos_properties, neg_properties, neu_properties, full_properties])\n",
    "df_properties.style.hide_index()"
   ]
  },
  {
   "cell_type": "code",
   "execution_count": 8,
   "metadata": {},
   "outputs": [
    {
     "data": {
      "text/html": [
       "<div>\n",
       "<style scoped>\n",
       "    .dataframe tbody tr th:only-of-type {\n",
       "        vertical-align: middle;\n",
       "    }\n",
       "\n",
       "    .dataframe tbody tr th {\n",
       "        vertical-align: top;\n",
       "    }\n",
       "\n",
       "    .dataframe thead th {\n",
       "        text-align: right;\n",
       "    }\n",
       "</style>\n",
       "<table border=\"1\" class=\"dataframe\">\n",
       "  <thead>\n",
       "    <tr style=\"text-align: right;\">\n",
       "      <th></th>\n",
       "      <th>Name</th>\n",
       "      <th>Type</th>\n",
       "      <th>Number of nodes</th>\n",
       "      <th>Number of edges</th>\n",
       "      <th>Average in degree</th>\n",
       "      <th>Average out degree</th>\n",
       "      <th>Reciprocity</th>\n",
       "      <th>Transitivity</th>\n",
       "      <th>Average_clustering</th>\n",
       "      <th>Edge_density</th>\n",
       "      <th>No_strongly_connected_components</th>\n",
       "      <th>No_weakly_connected_components</th>\n",
       "    </tr>\n",
       "  </thead>\n",
       "  <tbody>\n",
       "    <tr>\n",
       "      <th>0</th>\n",
       "      <td>Positive</td>\n",
       "      <td>DiGraph</td>\n",
       "      <td>64450</td>\n",
       "      <td>1918198</td>\n",
       "      <td>29.7626</td>\n",
       "      <td>29.7626</td>\n",
       "      <td>0.140961</td>\n",
       "      <td>0.368548</td>\n",
       "      <td>0.452515</td>\n",
       "      <td>0.000462</td>\n",
       "      <td>40622</td>\n",
       "      <td>3587</td>\n",
       "    </tr>\n",
       "    <tr>\n",
       "      <th>1</th>\n",
       "      <td>Negative</td>\n",
       "      <td>DiGraph</td>\n",
       "      <td>60932</td>\n",
       "      <td>1449678</td>\n",
       "      <td>23.7917</td>\n",
       "      <td>23.7917</td>\n",
       "      <td>0.139159</td>\n",
       "      <td>0.409590</td>\n",
       "      <td>0.463884</td>\n",
       "      <td>0.000390</td>\n",
       "      <td>44232</td>\n",
       "      <td>2849</td>\n",
       "    </tr>\n",
       "    <tr>\n",
       "      <th>2</th>\n",
       "      <td>Neutral</td>\n",
       "      <td>DiGraph</td>\n",
       "      <td>64152</td>\n",
       "      <td>1792056</td>\n",
       "      <td>27.9345</td>\n",
       "      <td>27.9345</td>\n",
       "      <td>0.128269</td>\n",
       "      <td>0.366235</td>\n",
       "      <td>0.443681</td>\n",
       "      <td>0.000435</td>\n",
       "      <td>41534</td>\n",
       "      <td>3461</td>\n",
       "    </tr>\n",
       "    <tr>\n",
       "      <th>3</th>\n",
       "      <td>Full</td>\n",
       "      <td>DiGraph</td>\n",
       "      <td>72403</td>\n",
       "      <td>3525298</td>\n",
       "      <td>48.6899</td>\n",
       "      <td>48.6899</td>\n",
       "      <td>0.184480</td>\n",
       "      <td>0.352361</td>\n",
       "      <td>0.469645</td>\n",
       "      <td>0.000672</td>\n",
       "      <td>19845</td>\n",
       "      <td>5519</td>\n",
       "    </tr>\n",
       "  </tbody>\n",
       "</table>\n",
       "</div>"
      ],
      "text/plain": [
       "       Name     Type Number of nodes Number of edges Average in degree  \\\n",
       "0  Positive  DiGraph           64450         1918198           29.7626   \n",
       "1  Negative  DiGraph           60932         1449678           23.7917   \n",
       "2   Neutral  DiGraph           64152         1792056           27.9345   \n",
       "3      Full  DiGraph           72403         3525298           48.6899   \n",
       "\n",
       "  Average out degree  Reciprocity  Transitivity  Average_clustering  \\\n",
       "0            29.7626     0.140961      0.368548            0.452515   \n",
       "1            23.7917     0.139159      0.409590            0.463884   \n",
       "2            27.9345     0.128269      0.366235            0.443681   \n",
       "3            48.6899     0.184480      0.352361            0.469645   \n",
       "\n",
       "   Edge_density  No_strongly_connected_components  \\\n",
       "0      0.000462                             40622   \n",
       "1      0.000390                             44232   \n",
       "2      0.000435                             41534   \n",
       "3      0.000672                             19845   \n",
       "\n",
       "   No_weakly_connected_components  \n",
       "0                            3587  \n",
       "1                            2849  \n",
       "2                            3461  \n",
       "3                            5519  "
      ]
     },
     "execution_count": 8,
     "metadata": {},
     "output_type": "execute_result"
    }
   ],
   "source": [
    "properties = info.join(df_properties.set_index('Name'), on='Name')\n",
    "properties"
   ]
  },
  {
   "cell_type": "markdown",
   "metadata": {},
   "source": [
    "***To fail***"
   ]
  },
  {
   "cell_type": "code",
   "execution_count": 9,
   "metadata": {},
   "outputs": [],
   "source": [
    "properties.to_csv('Properties/networks12May.csv', index=False) #'Properties/networks10August.csv'"
   ]
  },
  {
   "cell_type": "markdown",
   "metadata": {},
   "source": [
    "-------"
   ]
  }
 ],
 "metadata": {
  "interpreter": {
   "hash": "9875ef4d12ed64a86db83005ea8ab8b9688b2479ace70cfe1ecd436b96a4dbe3"
  },
  "kernelspec": {
   "display_name": "Python 3.6.13 ('networks.3.7.13')",
   "language": "python",
   "name": "python3"
  },
  "language_info": {
   "codemirror_mode": {
    "name": "ipython",
    "version": 3
   },
   "file_extension": ".py",
   "mimetype": "text/x-python",
   "name": "python",
   "nbconvert_exporter": "python",
   "pygments_lexer": "ipython3",
   "version": "3.6.13"
  },
  "orig_nbformat": 4
 },
 "nbformat": 4,
 "nbformat_minor": 2
}
