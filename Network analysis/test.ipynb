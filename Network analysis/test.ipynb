{
 "cells": [
  {
   "cell_type": "code",
   "execution_count": 1,
   "metadata": {},
   "outputs": [
    {
     "name": "stderr",
     "output_type": "stream",
     "text": [
      "[nltk_data] Downloading package vader_lexicon to\n",
      "[nltk_data]     /gpfs/space/home/marilinm/nltk_data...\n",
      "[nltk_data]   Package vader_lexicon is already up-to-date!\n"
     ]
    }
   ],
   "source": [
    "import os\n",
    "import pandas as pd\n",
    "import glob\n",
    "import numpy as np\n",
    "\n",
    "from itertools import combinations\n",
    "\n",
    "import networkx as nx\n",
    "from networkx.algorithms import community\n",
    "\n",
    "import matplotlib.pyplot as plt\n",
    "\n",
    "from posixpath import splitext\n",
    "\n",
    "import nltk\n",
    "nltk.download('vader_lexicon')\n",
    "from nltk.sentiment.vader import SentimentIntensityAnalyzer\n",
    "\n",
    "\n",
    "sid = SentimentIntensityAnalyzer()"
   ]
  },
  {
   "cell_type": "markdown",
   "metadata": {},
   "source": [
    "## Script for graph csv creation (with sentiment analysis)"
   ]
  },
  {
   "cell_type": "code",
   "execution_count": 6,
   "metadata": {},
   "outputs": [
    {
     "name": "stdout",
     "output_type": "stream",
     "text": [
      "0\n"
     ]
    },
    {
     "name": "stderr",
     "output_type": "stream",
     "text": [
      "/tmp/ipykernel_91220/1071879152.py:62: SettingWithCopyWarning: \n",
      "A value is trying to be set on a copy of a slice from a DataFrame.\n",
      "Try using .loc[row_indexer,col_indexer] = value instead\n",
      "\n",
      "See the caveats in the documentation: https://pandas.pydata.org/pandas-docs/stable/user_guide/indexing.html#returning-a-view-versus-a-copy\n",
      "  res[\"sentiment\"] = lst\n"
     ]
    },
    {
     "name": "stdout",
     "output_type": "stream",
     "text": [
      "1\n"
     ]
    },
    {
     "name": "stderr",
     "output_type": "stream",
     "text": [
      "/tmp/ipykernel_91220/1071879152.py:62: SettingWithCopyWarning: \n",
      "A value is trying to be set on a copy of a slice from a DataFrame.\n",
      "Try using .loc[row_indexer,col_indexer] = value instead\n",
      "\n",
      "See the caveats in the documentation: https://pandas.pydata.org/pandas-docs/stable/user_guide/indexing.html#returning-a-view-versus-a-copy\n",
      "  res[\"sentiment\"] = lst\n"
     ]
    },
    {
     "name": "stdout",
     "output_type": "stream",
     "text": [
      "2\n"
     ]
    },
    {
     "name": "stderr",
     "output_type": "stream",
     "text": [
      "/tmp/ipykernel_91220/1071879152.py:13: DtypeWarning: Columns (30) have mixed types. Specify dtype option on import or set low_memory=False.\n",
      "  a_data = pd.read_csv(files[i])\n",
      "/tmp/ipykernel_91220/1071879152.py:62: SettingWithCopyWarning: \n",
      "A value is trying to be set on a copy of a slice from a DataFrame.\n",
      "Try using .loc[row_indexer,col_indexer] = value instead\n",
      "\n",
      "See the caveats in the documentation: https://pandas.pydata.org/pandas-docs/stable/user_guide/indexing.html#returning-a-view-versus-a-copy\n",
      "  res[\"sentiment\"] = lst\n"
     ]
    },
    {
     "name": "stdout",
     "output_type": "stream",
     "text": [
      "3\n"
     ]
    },
    {
     "name": "stderr",
     "output_type": "stream",
     "text": [
      "/tmp/ipykernel_91220/1071879152.py:62: SettingWithCopyWarning: \n",
      "A value is trying to be set on a copy of a slice from a DataFrame.\n",
      "Try using .loc[row_indexer,col_indexer] = value instead\n",
      "\n",
      "See the caveats in the documentation: https://pandas.pydata.org/pandas-docs/stable/user_guide/indexing.html#returning-a-view-versus-a-copy\n",
      "  res[\"sentiment\"] = lst\n"
     ]
    },
    {
     "name": "stdout",
     "output_type": "stream",
     "text": [
      "4\n"
     ]
    },
    {
     "name": "stderr",
     "output_type": "stream",
     "text": [
      "/tmp/ipykernel_91220/1071879152.py:13: DtypeWarning: Columns (30) have mixed types. Specify dtype option on import or set low_memory=False.\n",
      "  a_data = pd.read_csv(files[i])\n",
      "/tmp/ipykernel_91220/1071879152.py:62: SettingWithCopyWarning: \n",
      "A value is trying to be set on a copy of a slice from a DataFrame.\n",
      "Try using .loc[row_indexer,col_indexer] = value instead\n",
      "\n",
      "See the caveats in the documentation: https://pandas.pydata.org/pandas-docs/stable/user_guide/indexing.html#returning-a-view-versus-a-copy\n",
      "  res[\"sentiment\"] = lst\n"
     ]
    },
    {
     "name": "stdout",
     "output_type": "stream",
     "text": [
      "5\n"
     ]
    },
    {
     "name": "stderr",
     "output_type": "stream",
     "text": [
      "/tmp/ipykernel_91220/1071879152.py:16: DtypeWarning: Columns (0) have mixed types. Specify dtype option on import or set low_memory=False.\n",
      "  data = pd.read_csv(file)\n",
      "/tmp/ipykernel_91220/1071879152.py:62: SettingWithCopyWarning: \n",
      "A value is trying to be set on a copy of a slice from a DataFrame.\n",
      "Try using .loc[row_indexer,col_indexer] = value instead\n",
      "\n",
      "See the caveats in the documentation: https://pandas.pydata.org/pandas-docs/stable/user_guide/indexing.html#returning-a-view-versus-a-copy\n",
      "  res[\"sentiment\"] = lst\n"
     ]
    }
   ],
   "source": [
    "# iterating to create the graph csv-s for all the dates - 9./10/11.08 and 11/12/13.05 \n",
    "\n",
    "# \"../Data/conversations_2019-05-12.csv\", \"../Data/conversations_2019-05-13.csv\"- kills the kernel - memory issue\n",
    "\n",
    "#\"../Data/conversations_2018-08-09.csv\", \"../Data/conversations_2018-08-10.csv\", \"../Data/conversations_2018-08-11.csv\", \"../Data/conversations_2019-05-11.csv\"- running in batches highly recommended, kernel can die elsewise\n",
    "\n",
    "\n",
    "files = [\"../Data/premier_league_2018-08-09.csv\", \"../Data/premier_league_2018-08-10.csv\", \"../Data/premier_league_2018-08-11.csv\", \"../Data/premier_league_2019-05-11.csv\", \"../Data/premier_league_2019-05-12.csv\", \"../Data/premier_league_2019-05-13.csv\"]\n",
    "\n",
    "for i, file in enumerate([\"../Data/conversations_2018-08-09.csv\", \"../Data/conversations_2018-08-10.csv\", \"../Data/conversations_2018-08-11.csv\", \"../Data/conversations_2019-05-11.csv\", \"../Data/conversations_2019-05-12.csv\", \"../Data/conversations_2019-05-13.csv\"]):\n",
    "    print(i)\n",
    "    # user dataframe\n",
    "    a_data = pd.read_csv(files[i])\n",
    "    \n",
    "    # conversastions dataframe \n",
    "    data = pd.read_csv(file)\n",
    "    data = data.drop(columns = \"conv_indx\")\n",
    "    \n",
    "    # selecting only verified users to reduce the amount of nodes \n",
    "    df = a_data[a_data['Verified']]\n",
    "    df.Verified.value_counts()\n",
    "    verTweets = df['Tweet Id']\n",
    "    df_conv = data[data.tweetId.isin(verTweets)]\n",
    "    \n",
    "    res = df_conv[df_conv.duplicated(subset=[\"conversation_id\"], keep = False)]\n",
    "    \n",
    "    # selecting conversations that would create an edge\n",
    "    df_links = (res.groupby(['conversation_id'])['userId'].apply(lambda x: pd.DataFrame(list(combinations(x,2))))\n",
    "      .reset_index(level=1, drop=True)\n",
    "      .reset_index())\n",
    "    \n",
    "    df_links.rename(columns={0: \"source\", 1: \"target\"}, inplace = True)\n",
    "    df_edges= df_links.astype({\"source\":str, \"target\":str}, copy= True)\n",
    "    \n",
    "    #### creating csv-s with no sentiment analysis \n",
    "\n",
    "    count_df_n = df_edges.groupby([\"source\", \"target\"]).size().reset_index(name='weight')\n",
    "    count_df_n.drop_duplicates()\n",
    "    \n",
    "    count_df_n.to_csv(\"graph_csv/graph_ver_no_sent_{}.csv\".format(splitext(file.split(\"/\")[-1])[0]), index = False)\n",
    "\n",
    "    \n",
    "    #### creating csv-s with sentiment analysis\n",
    "    \n",
    "    # sentiment analysis prep\n",
    "    tweets = res.content.values\n",
    "\n",
    "    # classifying - if neu: 0, if pos: 2, if neg: 1 - NB! the pre-trained sentiment model \n",
    "    # does not consider emojis - de-emojifying did not help \n",
    "\n",
    "    lst = []\n",
    "\n",
    "    for i in range(len(tweets)):\n",
    "        if sid.polarity_scores(tweets[i])[\"neg\"] > 0.0 and sid.polarity_scores(tweets[i])[\"neu\"] > 0.0:\n",
    "            lst.append(1)\n",
    "        elif sid.polarity_scores(tweets[i])[\"pos\"] > 0.0 and sid.polarity_scores(tweets[i])[\"neu\"] > 0.0:\n",
    "            lst.append(2)\n",
    "        else: \n",
    "            lst.append(0)\n",
    "\n",
    "    # assigning sentiment values to the res dataframe         \n",
    "    res[\"sentiment\"] = lst\n",
    "\n",
    "    # making a cp just in case \n",
    "    df2 = df_links.copy(deep = True)\n",
    "    df2 = df2.merge(res[[\"conversation_id\", \"userId\", \"sentiment\"]], how = \"left\", left_on = \"target\", right_on = \"userId\")\n",
    "\n",
    "    df2 = df2.drop(columns= [\"conversation_id_y\", \"userId\"])\n",
    "    df2.rename(columns = {'conversation_id_x':'conversation_id'}, inplace = True)\n",
    "\n",
    "    # now weight considers both unique connections and the same sentiment\n",
    "    count_df = df2.groupby([\"source\", \"target\", \"sentiment\"]).size().reset_index(name='weight')\n",
    "\n",
    "    # removing a strange artefact - where the source and target are the same \n",
    "    count_df = count_df[count_df[\"source\"] != count_df[\"target\"]] \n",
    "    \n",
    "    # removing duplicates \n",
    "    count_df.drop_duplicates()\n",
    "\n",
    "    # saving as csv \n",
    "    count_df.to_csv(\"graph_csv/graph_ver_sent_{}.csv\".format(splitext(file.split(\"/\")[-1])[0]), index = False)\n",
    "    \n"
   ]
  },
  {
   "cell_type": "code",
   "execution_count": 15,
   "metadata": {},
   "outputs": [],
   "source": [
    "G = nx.from_pandas_edgelist(count_df, source= \"source\", target= \"target\",edge_attr=True) # nx.graph() "
   ]
  },
  {
   "cell_type": "markdown",
   "metadata": {},
   "source": [
    "### Network descriptive analysis"
   ]
  },
  {
   "cell_type": "code",
   "execution_count": 141,
   "metadata": {},
   "outputs": [],
   "source": [
    "# helper functions from the lab \n",
    "def net_prop_dict(G):\n",
    "    prop_dict = {}\n",
    "\n",
    "    prop_dict['no_of_nodes'] = nx.number_of_nodes(G)\n",
    "    prop_dict['no_of_edges'] = nx.number_of_edges(G)\n",
    "    if nx.is_connected(G):\n",
    "        prop_dict['average_shortest_path_length'] = nx.average_shortest_path_length(G)\n",
    "        prop_dict['diameter'] = nx.diameter(G)\n",
    "    prop_dict['transitivity'] = nx.transitivity(G)\n",
    "    prop_dict['average_clustering'] = nx.average_clustering(G)   \n",
    "    prop_dict['edge_density'] = nx.classes.function.density(G)\n",
    "    prop_dict['average_degree'] = np.array([d for n, d in G.degree()]).sum()/nx.number_of_nodes(G)\n",
    "    prop_dict['total_triangles'] = np.array(list(nx.triangles(G).values())).sum()\n",
    "    prop_dict['number_connected_components'] = nx.algorithms.components.number_connected_components(G)\n",
    "    return prop_dict\n",
    "\n",
    "def net_prop_dict_whole(G, k):\n",
    "    prop_dict = {}\n",
    "\n",
    "    prop_dict['no_of_nodes'] = nx.number_of_nodes(G)\n",
    "    prop_dict['no_of_edges'] = nx.number_of_edges(G)\n",
    "    if nx.is_connected(G):\n",
    "        prop_dict['average_shortest_path_length'] = nx.average_shortest_path_length(G)\n",
    "        prop_dict['diameter'] = nx.diameter(G)\n",
    "    prop_dict['transitivity'] = nx.transitivity(G)\n",
    "    prop_dict['average_clustering'] = nx.average_clustering(G)   \n",
    "    prop_dict['edge_density'] = nx.classes.function.density(G)\n",
    "    prop_dict['average_degree'] = np.array([d for n, d in G.degree()]).sum()/nx.number_of_nodes(G)\n",
    "    prop_dict['total_triangles'] = np.array(list(nx.triangles(G).values())).sum()\n",
    "    prop_dict['number_connected_components'] = nx.algorithms.components.number_connected_components(G)\n",
    "    prop_dict['giant_component_prop'] = net_prop_dict(G.subgraph(sorted(nx.connected_components(G), key=len, reverse=True)[0]))\n",
    "    prop_dict['k_core_prop'] = net_prop_dict(nx.k_core(G))\n",
    "    return prop_dict"
   ]
  },
  {
   "cell_type": "code",
   "execution_count": null,
   "metadata": {},
   "outputs": [],
   "source": [
    "# takes a lof time \n",
    "net_prop_dict_whole(G, 3)"
   ]
  },
  {
   "cell_type": "code",
   "execution_count": 16,
   "metadata": {},
   "outputs": [
    {
     "data": {
      "text/plain": [
       "(array([7.66e+03, 1.60e+03, 7.00e+02, 8.10e+02, 2.47e+02, 3.50e+01,\n",
       "        8.00e+00, 2.00e+00, 1.00e+00, 3.00e+00]),\n",
       " array([  1. ,  48.4,  95.8, 143.2, 190.6, 238. , 285.4, 332.8, 380.2,\n",
       "        427.6, 475. ]),\n",
       " <a list of 10 Patch objects>)"
      ]
     },
     "execution_count": 16,
     "metadata": {},
     "output_type": "execute_result"
    },
    {
     "data": {
      "image/png": "[encoded data removed]",
      "text/plain": [
       "<Figure size 432x288 with 1 Axes>"
      ]
     },
     "metadata": {
      "needs_background": "light"
     },
     "output_type": "display_data"
    }
   ],
   "source": [
    "# degree histogram\n",
    "degrees = [G.degree(n) for n in G.nodes()]\n",
    "plt.hist(degrees)"
   ]
  },
  {
   "cell_type": "code",
   "execution_count": 17,
   "metadata": {},
   "outputs": [
    {
     "data": {
      "image/png": "[encoded data removed]",
      "text/plain": [
       "<Figure size 432x288 with 1 Axes>"
      ]
     },
     "metadata": {
      "needs_background": "light"
     },
     "output_type": "display_data"
    }
   ],
   "source": [
    "# degree distribution log-log\n",
    "degree_sequence = sorted([d for n, d in G.degree()], reverse=True)\n",
    "plt.loglog(degree_sequence,marker='*')\n",
    "plt.show()"
   ]
  },
  {
   "cell_type": "code",
   "execution_count": null,
   "metadata": {},
   "outputs": [],
   "source": [
    "# centrality \n",
    "eigen_cent = nx.eigenvector_centrality(G)\n",
    "\n",
    "#pagerank_cent = nx.pagerank(G)\n",
    "#betweenness = nx.betweenbness_centrality(G)"
   ]
  },
  {
   "cell_type": "code",
   "execution_count": 158,
   "metadata": {},
   "outputs": [],
   "source": [
    "pagerank_cent = nx.pagerank(G)"
   ]
  },
  {
   "cell_type": "code",
   "execution_count": 159,
   "metadata": {},
   "outputs": [
    {
     "name": "stdout",
     "output_type": "stream",
     "text": [
      "eigen:\n",
      "('2987868107', 0.06985349684966168)\n",
      "('2955389859', 0.06960752703955658)\n",
      "('4870741240', 0.06914188412174209)\n",
      "pagerank:\n",
      "('4604001507', 0.0015631443172323491)\n",
      "('2665988107', 0.001340544347697076)\n",
      "('41224886', 0.001077410164717)\n"
     ]
    }
   ],
   "source": [
    "print(\"eigen:\")\n",
    "for i in sorted(eigen_cent.items(), key=lambda item: item[1], reverse=True)[:3]:\n",
    "  print(i)\n",
    "\n",
    "#print(\"--\")\n",
    "print(\"pagerank:\")\n",
    "for i in sorted(pagerank_cent.items(), key=lambda item: item[1], reverse=True)[:3]:\n",
    "  print(i)\n",
    "\n",
    "#print(\"--\")\n",
    "# print(\"betweenness\")\n",
    "# for i in sorted(betweenness.items(), key=lambda item: item[1], reverse=True)[:3]:\n",
    "#   print(i)"
   ]
  },
  {
   "cell_type": "code",
   "execution_count": 144,
   "metadata": {},
   "outputs": [],
   "source": [
    "degree_centrality = nx.degree_centrality(G) # outputs id: degree of centrality\n",
    "#nodes[nodes[\"id\"].isin([idx for (idx, val) in sorted(degree_centrality.items(), key=lambda item: item[1], reverse = True)[:4]])][\"Name\"]"
   ]
  },
  {
   "cell_type": "code",
   "execution_count": 145,
   "metadata": {},
   "outputs": [
    {
     "data": {
      "text/plain": [
       "[('3099075032', 0.04292815183009489),\n",
       " ('973077014633730048', 0.04229552643470402),\n",
       " ('108568373', 0.040578400361500226),\n",
       " ('1561123663', 0.03488477180298238),\n",
       " ('2987868107', 0.034161771351107095)]"
      ]
     },
     "execution_count": 145,
     "metadata": {},
     "output_type": "execute_result"
    }
   ],
   "source": [
    "sorted(degree_centrality.items(), key=lambda item: item[1], reverse = True)[:5] # user-ids which have more de"
   ]
  },
  {
   "cell_type": "code",
   "execution_count": 154,
   "metadata": {},
   "outputs": [
    {
     "data": {
      "text/plain": [
       "array([   0,    1,    2, ..., 1633, 1634, 1635])"
      ]
     },
     "execution_count": 154,
     "metadata": {},
     "output_type": "execute_result"
    }
   ],
   "source": [
    "# community algorithms \n",
    "import community.community_louvain as community_louvain\n",
    "import numpy as np\n",
    "\n",
    "lst_m = community_louvain.best_partition(G)\n",
    "np.unique(list(lst_m.values())) # number of communities"
   ]
  },
  {
   "cell_type": "code",
   "execution_count": 25,
   "metadata": {},
   "outputs": [
    {
     "name": "stdout",
     "output_type": "stream",
     "text": [
      "Number of nodes: 11066\n",
      "Number of edges: 241970\n",
      "Average degree centrality: 43.732152539309595\n",
      "Density: 0.003952295755924953\n",
      "Eigenvector centrality: 0.0013401645795401496\n",
      "PageRank centrality: 9.036688957166094e-05\n"
     ]
    }
   ],
   "source": [
    "# network analysis\n",
    "D = nx.from_pandas_edgelist(pd.read_csv(\"graph_conversations_2018-08-09.csv\"), source= \"source\", target= \"target\",edge_attr=True) # nx.graph() \n",
    "\n",
    "eigen_cent = nx.eigenvector_centrality(D)\n",
    "pagerank_cent = nx.pagerank(D)\n",
    "#betweenness = nx.betweenness_centrality(D)\n",
    "\n",
    "\n",
    "# Number of nodes\n",
    "print(\"Number of nodes:\", D.number_of_nodes())\n",
    "\n",
    "# Number of edges\n",
    "print(\"Number of edges:\", D.number_of_edges())\n",
    "\n",
    "# Average degree centrality\n",
    "avg_degree = 2*D.number_of_edges() / float(D.number_of_nodes())\n",
    "print(\"Average degree centrality:\", avg_degree)\n",
    "\n",
    "density = nx.density(D)\n",
    "print(\"Density:\", density)\n",
    "\n",
    "eigen = np.mean(np.array(list([eigen_cent[i] for i in eigen_cent])))\n",
    "print(\"Eigenvector centrality:\", eigen)\n",
    "\n",
    "pagerank = np.mean(np.array(list([pagerank_cent[i] for i in pagerank_cent])))\n",
    "print(\"PageRank centrality:\", pagerank)\n",
    "\n",
    "#betweenness = np.mean(np.array(list([betweenness[i] for i in betweenness])))\n",
    "#print(\"Betweenness centrality:\", betweenness)"
   ]
  },
  {
   "cell_type": "markdown",
   "metadata": {},
   "source": [
    "## Testing arena "
   ]
  },
  {
   "cell_type": "code",
   "execution_count": 51,
   "metadata": {},
   "outputs": [],
   "source": [
    "data = pd.read_csv(\"../Data/conversations_2018-08-09.csv\")\n",
    "data = data.drop(columns = \"conv_indx\")"
   ]
  },
  {
   "cell_type": "code",
   "execution_count": 52,
   "metadata": {},
   "outputs": [
    {
     "data": {
      "text/html": [
       "<div>\n",
       "<style scoped>\n",
       "    .dataframe tbody tr th:only-of-type {\n",
       "        vertical-align: middle;\n",
       "    }\n",
       "\n",
       "    .dataframe tbody tr th {\n",
       "        vertical-align: top;\n",
       "    }\n",
       "\n",
       "    .dataframe thead th {\n",
       "        text-align: right;\n",
       "    }\n",
       "</style>\n",
       "<table border=\"1\" class=\"dataframe\">\n",
       "  <thead>\n",
       "    <tr style=\"text-align: right;\">\n",
       "      <th></th>\n",
       "      <th>Tweet_url</th>\n",
       "      <th>Datetime</th>\n",
       "      <th>Text</th>\n",
       "      <th>Tweet Id</th>\n",
       "      <th>Username</th>\n",
       "      <th>User_id</th>\n",
       "      <th>Description</th>\n",
       "      <th>Display_name</th>\n",
       "      <th>Verified</th>\n",
       "      <th>Created_at</th>\n",
       "      <th>...</th>\n",
       "      <th>Quote_count</th>\n",
       "      <th>Lang</th>\n",
       "      <th>Source_label</th>\n",
       "      <th>inReplyToTweetId</th>\n",
       "      <th>conversationId</th>\n",
       "      <th>Media</th>\n",
       "      <th>Coordinates</th>\n",
       "      <th>Place</th>\n",
       "      <th>Hashtags</th>\n",
       "      <th>Cashtags</th>\n",
       "    </tr>\n",
       "  </thead>\n",
       "  <tbody>\n",
       "    <tr>\n",
       "      <th>0</th>\n",
       "      <td>https://twitter.com/AfifMrFive/status/10277060...</td>\n",
       "      <td>2018-08-09 23:59:59+00:00</td>\n",
       "      <td>Man Utd sengaja tdk memberikan kejutan transfe...</td>\n",
       "      <td>1027706086210469888</td>\n",
       "      <td>AfifMrFive</td>\n",
       "      <td>472843316</td>\n",
       "      <td>In the Name of Coffee</td>\n",
       "      <td>T.E.M.P.E</td>\n",
       "      <td>False</td>\n",
       "      <td>2012-01-24 10:56:02+00:00</td>\n",
       "      <td>...</td>\n",
       "      <td>0</td>\n",
       "      <td>in</td>\n",
       "      <td>Twitter for Android</td>\n",
       "      <td>NaN</td>\n",
       "      <td>1027706086210469888</td>\n",
       "      <td>NaN</td>\n",
       "      <td>NaN</td>\n",
       "      <td>NaN</td>\n",
       "      <td>NaN</td>\n",
       "      <td>NaN</td>\n",
       "    </tr>\n",
       "    <tr>\n",
       "      <th>1</th>\n",
       "      <td>https://twitter.com/ManoDLC/status/10277060680...</td>\n",
       "      <td>2018-08-09 23:59:55+00:00</td>\n",
       "      <td>#EsporteInterativo vai deixar saudades ❤️ Tris...</td>\n",
       "      <td>1027706068082876417</td>\n",
       "      <td>ManoDLC</td>\n",
       "      <td>730459959205502977</td>\n",
       "      <td>Flamengo até morrer eu sou! ❤️🖤</td>\n",
       "      <td>𝙊 𝙏𝙝𝙪𝙪𝙧 ᶜʳᶠ</td>\n",
       "      <td>False</td>\n",
       "      <td>2016-05-11 18:10:00+00:00</td>\n",
       "      <td>...</td>\n",
       "      <td>0</td>\n",
       "      <td>pt</td>\n",
       "      <td>Twitter for Android</td>\n",
       "      <td>NaN</td>\n",
       "      <td>1027706068082876417</td>\n",
       "      <td>NaN</td>\n",
       "      <td>NaN</td>\n",
       "      <td>NaN</td>\n",
       "      <td>['EsporteInterativo']</td>\n",
       "      <td>NaN</td>\n",
       "    </tr>\n",
       "    <tr>\n",
       "      <th>2</th>\n",
       "      <td>https://twitter.com/rumbonuevo/status/10277060...</td>\n",
       "      <td>2018-08-09 23:59:54+00:00</td>\n",
       "      <td>Inauguran Premier League 2018 - https://t.co/7...</td>\n",
       "      <td>1027706064295342080</td>\n",
       "      <td>rumbonuevo</td>\n",
       "      <td>125835134</td>\n",
       "      <td>Rumbo Nuevo, El Diario de la Vida Tabasqueña, ...</td>\n",
       "      <td>Rumbo Nuevo</td>\n",
       "      <td>False</td>\n",
       "      <td>2010-03-24 01:08:02+00:00</td>\n",
       "      <td>...</td>\n",
       "      <td>0</td>\n",
       "      <td>it</td>\n",
       "      <td>app socialautopost</td>\n",
       "      <td>NaN</td>\n",
       "      <td>1027706064295342080</td>\n",
       "      <td>[Photo(previewUrl='https://pbs.twimg.com/media...</td>\n",
       "      <td>NaN</td>\n",
       "      <td>NaN</td>\n",
       "      <td>NaN</td>\n",
       "      <td>NaN</td>\n",
       "    </tr>\n",
       "    <tr>\n",
       "      <th>3</th>\n",
       "      <td>https://twitter.com/sportimba/status/102770606...</td>\n",
       "      <td>2018-08-09 23:59:53+00:00</td>\n",
       "      <td>Descripción gráfica de los fichajes en la #Pre...</td>\n",
       "      <td>1027706063032860672</td>\n",
       "      <td>sportimba</td>\n",
       "      <td>860314246177062912</td>\n",
       "      <td>Somos el primer portal peruano exclusivo y esp...</td>\n",
       "      <td>Sportimba.com</td>\n",
       "      <td>False</td>\n",
       "      <td>2017-05-05 02:04:35+00:00</td>\n",
       "      <td>...</td>\n",
       "      <td>0</td>\n",
       "      <td>es</td>\n",
       "      <td>Twitter for Android</td>\n",
       "      <td>NaN</td>\n",
       "      <td>1027706063032860672</td>\n",
       "      <td>[Photo(previewUrl='https://pbs.twimg.com/media...</td>\n",
       "      <td>NaN</td>\n",
       "      <td>NaN</td>\n",
       "      <td>['PremierLeague']</td>\n",
       "      <td>NaN</td>\n",
       "    </tr>\n",
       "    <tr>\n",
       "      <th>4</th>\n",
       "      <td>https://twitter.com/stommx/status/102770602848...</td>\n",
       "      <td>2018-08-09 23:59:45+00:00</td>\n",
       "      <td>I liked a @YouTube video https://t.co/WTIRoTzQ...</td>\n",
       "      <td>1027706028488454146</td>\n",
       "      <td>stommx</td>\n",
       "      <td>346876874</td>\n",
       "      <td>NaN</td>\n",
       "      <td>SteveW</td>\n",
       "      <td>False</td>\n",
       "      <td>2011-08-01 23:51:07+00:00</td>\n",
       "      <td>...</td>\n",
       "      <td>0</td>\n",
       "      <td>en</td>\n",
       "      <td>Google</td>\n",
       "      <td>NaN</td>\n",
       "      <td>1027706028488454146</td>\n",
       "      <td>NaN</td>\n",
       "      <td>NaN</td>\n",
       "      <td>NaN</td>\n",
       "      <td>NaN</td>\n",
       "      <td>NaN</td>\n",
       "    </tr>\n",
       "  </tbody>\n",
       "</table>\n",
       "<p>5 rows × 31 columns</p>\n",
       "</div>"
      ],
      "text/plain": [
       "                                           Tweet_url  \\\n",
       "0  https://twitter.com/AfifMrFive/status/10277060...   \n",
       "1  https://twitter.com/ManoDLC/status/10277060680...   \n",
       "2  https://twitter.com/rumbonuevo/status/10277060...   \n",
       "3  https://twitter.com/sportimba/status/102770606...   \n",
       "4  https://twitter.com/stommx/status/102770602848...   \n",
       "\n",
       "                    Datetime  \\\n",
       "0  2018-08-09 23:59:59+00:00   \n",
       "1  2018-08-09 23:59:55+00:00   \n",
       "2  2018-08-09 23:59:54+00:00   \n",
       "3  2018-08-09 23:59:53+00:00   \n",
       "4  2018-08-09 23:59:45+00:00   \n",
       "\n",
       "                                                Text             Tweet Id  \\\n",
       "0  Man Utd sengaja tdk memberikan kejutan transfe...  1027706086210469888   \n",
       "1  #EsporteInterativo vai deixar saudades ❤️ Tris...  1027706068082876417   \n",
       "2  Inauguran Premier League 2018 - https://t.co/7...  1027706064295342080   \n",
       "3  Descripción gráfica de los fichajes en la #Pre...  1027706063032860672   \n",
       "4  I liked a @YouTube video https://t.co/WTIRoTzQ...  1027706028488454146   \n",
       "\n",
       "     Username             User_id  \\\n",
       "0  AfifMrFive           472843316   \n",
       "1     ManoDLC  730459959205502977   \n",
       "2  rumbonuevo           125835134   \n",
       "3   sportimba  860314246177062912   \n",
       "4      stommx           346876874   \n",
       "\n",
       "                                         Description   Display_name  Verified  \\\n",
       "0                              In the Name of Coffee      T.E.M.P.E     False   \n",
       "1                    Flamengo até morrer eu sou! ❤️🖤    𝙊 𝙏𝙝𝙪𝙪𝙧 ᶜʳᶠ     False   \n",
       "2  Rumbo Nuevo, El Diario de la Vida Tabasqueña, ...    Rumbo Nuevo     False   \n",
       "3  Somos el primer portal peruano exclusivo y esp...  Sportimba.com     False   \n",
       "4                                                NaN         SteveW     False   \n",
       "\n",
       "                  Created_at  ...  Quote_count  Lang         Source_label  \\\n",
       "0  2012-01-24 10:56:02+00:00  ...            0    in  Twitter for Android   \n",
       "1  2016-05-11 18:10:00+00:00  ...            0    pt  Twitter for Android   \n",
       "2  2010-03-24 01:08:02+00:00  ...            0    it   app socialautopost   \n",
       "3  2017-05-05 02:04:35+00:00  ...            0    es  Twitter for Android   \n",
       "4  2011-08-01 23:51:07+00:00  ...            0    en               Google   \n",
       "\n",
       "   inReplyToTweetId       conversationId  \\\n",
       "0               NaN  1027706086210469888   \n",
       "1               NaN  1027706068082876417   \n",
       "2               NaN  1027706064295342080   \n",
       "3               NaN  1027706063032860672   \n",
       "4               NaN  1027706028488454146   \n",
       "\n",
       "                                               Media Coordinates  Place  \\\n",
       "0                                                NaN         NaN    NaN   \n",
       "1                                                NaN         NaN    NaN   \n",
       "2  [Photo(previewUrl='https://pbs.twimg.com/media...         NaN    NaN   \n",
       "3  [Photo(previewUrl='https://pbs.twimg.com/media...         NaN    NaN   \n",
       "4                                                NaN         NaN    NaN   \n",
       "\n",
       "                Hashtags  Cashtags  \n",
       "0                    NaN       NaN  \n",
       "1  ['EsporteInterativo']       NaN  \n",
       "2                    NaN       NaN  \n",
       "3      ['PremierLeague']       NaN  \n",
       "4                    NaN       NaN  \n",
       "\n",
       "[5 rows x 31 columns]"
      ]
     },
     "execution_count": 52,
     "metadata": {},
     "output_type": "execute_result"
    }
   ],
   "source": [
    "a_data = pd.read_csv(\"../Data/premier_league_2018-08-09.csv\")\n",
    "a_data.head()"
   ]
  },
  {
   "cell_type": "code",
   "execution_count": 53,
   "metadata": {},
   "outputs": [
    {
     "data": {
      "text/html": [
       "<div>\n",
       "<style scoped>\n",
       "    .dataframe tbody tr th:only-of-type {\n",
       "        vertical-align: middle;\n",
       "    }\n",
       "\n",
       "    .dataframe tbody tr th {\n",
       "        vertical-align: top;\n",
       "    }\n",
       "\n",
       "    .dataframe thead th {\n",
       "        text-align: right;\n",
       "    }\n",
       "</style>\n",
       "<table border=\"1\" class=\"dataframe\">\n",
       "  <thead>\n",
       "    <tr style=\"text-align: right;\">\n",
       "      <th></th>\n",
       "      <th>conversation_id</th>\n",
       "      <th>tweetId</th>\n",
       "      <th>content</th>\n",
       "      <th>userId</th>\n",
       "    </tr>\n",
       "  </thead>\n",
       "  <tbody>\n",
       "    <tr>\n",
       "      <th>0</th>\n",
       "      <td>1027705841808551936</td>\n",
       "      <td>1027705841808551936</td>\n",
       "      <td>The @premierleague is back tomorrow 😍😍😍</td>\n",
       "      <td>466107707</td>\n",
       "    </tr>\n",
       "    <tr>\n",
       "      <th>1</th>\n",
       "      <td>1027705638401523714</td>\n",
       "      <td>1027705638401523714</td>\n",
       "      <td>©️ THE #FPL CAPTAINS POLL ©️\\n\\nFantasy Premie...</td>\n",
       "      <td>470018406</td>\n",
       "    </tr>\n",
       "    <tr>\n",
       "      <th>2</th>\n",
       "      <td>1027705638401523714</td>\n",
       "      <td>1027804676241145856</td>\n",
       "      <td>@FPL_OWLBEAR @FFPundits If I was brave enough ...</td>\n",
       "      <td>860951831777771520</td>\n",
       "    </tr>\n",
       "    <tr>\n",
       "      <th>3</th>\n",
       "      <td>1027705638401523714</td>\n",
       "      <td>1027709014619172866</td>\n",
       "      <td>@FFPundits Any tips? https://t.co/VJz1wRpDbO</td>\n",
       "      <td>922075763507122176</td>\n",
       "    </tr>\n",
       "    <tr>\n",
       "      <th>4</th>\n",
       "      <td>1027705638401523714</td>\n",
       "      <td>1027805006274224128</td>\n",
       "      <td>@MarkyHHugget @FFPundits Cedric is probably 50...</td>\n",
       "      <td>860951831777771520</td>\n",
       "    </tr>\n",
       "    <tr>\n",
       "      <th>...</th>\n",
       "      <td>...</td>\n",
       "      <td>...</td>\n",
       "      <td>...</td>\n",
       "      <td>...</td>\n",
       "    </tr>\n",
       "    <tr>\n",
       "      <th>18529</th>\n",
       "      <td>1027345571307302912</td>\n",
       "      <td>1027365112708063232</td>\n",
       "      <td>@dhautzig @BobbySoccerRep Not sure you are pla...</td>\n",
       "      <td>2275331414</td>\n",
       "    </tr>\n",
       "    <tr>\n",
       "      <th>18530</th>\n",
       "      <td>1027345571307302912</td>\n",
       "      <td>1027370059579228160</td>\n",
       "      <td>@AndyfromNewHamp @BobbySoccerRep Top half and ...</td>\n",
       "      <td>105629880</td>\n",
       "    </tr>\n",
       "    <tr>\n",
       "      <th>18531</th>\n",
       "      <td>1027344358863863808</td>\n",
       "      <td>1027344358863863808</td>\n",
       "      <td>Manchester United legend Paul #Scholes believe...</td>\n",
       "      <td>4196267478</td>\n",
       "    </tr>\n",
       "    <tr>\n",
       "      <th>18532</th>\n",
       "      <td>1027343704103833606</td>\n",
       "      <td>1027343704103833606</td>\n",
       "      <td>Last summer the financial power of the Premier...</td>\n",
       "      <td>521238652</td>\n",
       "    </tr>\n",
       "    <tr>\n",
       "      <th>18533</th>\n",
       "      <td>1027343704103833606</td>\n",
       "      <td>1027347908474089472</td>\n",
       "      <td>@TifoFootball_ great content</td>\n",
       "      <td>1883409650</td>\n",
       "    </tr>\n",
       "  </tbody>\n",
       "</table>\n",
       "<p>18534 rows × 4 columns</p>\n",
       "</div>"
      ],
      "text/plain": [
       "           conversation_id              tweetId  \\\n",
       "0      1027705841808551936  1027705841808551936   \n",
       "1      1027705638401523714  1027705638401523714   \n",
       "2      1027705638401523714  1027804676241145856   \n",
       "3      1027705638401523714  1027709014619172866   \n",
       "4      1027705638401523714  1027805006274224128   \n",
       "...                    ...                  ...   \n",
       "18529  1027345571307302912  1027365112708063232   \n",
       "18530  1027345571307302912  1027370059579228160   \n",
       "18531  1027344358863863808  1027344358863863808   \n",
       "18532  1027343704103833606  1027343704103833606   \n",
       "18533  1027343704103833606  1027347908474089472   \n",
       "\n",
       "                                                 content              userId  \n",
       "0                The @premierleague is back tomorrow 😍😍😍           466107707  \n",
       "1      ©️ THE #FPL CAPTAINS POLL ©️\\n\\nFantasy Premie...           470018406  \n",
       "2      @FPL_OWLBEAR @FFPundits If I was brave enough ...  860951831777771520  \n",
       "3           @FFPundits Any tips? https://t.co/VJz1wRpDbO  922075763507122176  \n",
       "4      @MarkyHHugget @FFPundits Cedric is probably 50...  860951831777771520  \n",
       "...                                                  ...                 ...  \n",
       "18529  @dhautzig @BobbySoccerRep Not sure you are pla...          2275331414  \n",
       "18530  @AndyfromNewHamp @BobbySoccerRep Top half and ...           105629880  \n",
       "18531  Manchester United legend Paul #Scholes believe...          4196267478  \n",
       "18532  Last summer the financial power of the Premier...           521238652  \n",
       "18533                       @TifoFootball_ great content          1883409650  \n",
       "\n",
       "[18534 rows x 4 columns]"
      ]
     },
     "execution_count": 53,
     "metadata": {},
     "output_type": "execute_result"
    }
   ],
   "source": [
    "data"
   ]
  },
  {
   "cell_type": "code",
   "execution_count": 56,
   "metadata": {},
   "outputs": [],
   "source": [
    "# selecting only verified users to \n",
    "df = a_data[a_data['Verified']]\n",
    "df.Verified.value_counts()\n",
    "verTweets = df['Tweet Id']"
   ]
  },
  {
   "cell_type": "code",
   "execution_count": 57,
   "metadata": {},
   "outputs": [],
   "source": [
    "df_conv = data[data.conversation_id.isin(verTweets)]"
   ]
  },
  {
   "cell_type": "code",
   "execution_count": 58,
   "metadata": {},
   "outputs": [
    {
     "data": {
      "text/html": [
       "<div>\n",
       "<style scoped>\n",
       "    .dataframe tbody tr th:only-of-type {\n",
       "        vertical-align: middle;\n",
       "    }\n",
       "\n",
       "    .dataframe tbody tr th {\n",
       "        vertical-align: top;\n",
       "    }\n",
       "\n",
       "    .dataframe thead th {\n",
       "        text-align: right;\n",
       "    }\n",
       "</style>\n",
       "<table border=\"1\" class=\"dataframe\">\n",
       "  <thead>\n",
       "    <tr style=\"text-align: right;\">\n",
       "      <th></th>\n",
       "      <th>conversation_id</th>\n",
       "      <th>tweetId</th>\n",
       "      <th>content</th>\n",
       "      <th>userId</th>\n",
       "    </tr>\n",
       "  </thead>\n",
       "  <tbody>\n",
       "    <tr>\n",
       "      <th>18</th>\n",
       "      <td>1027703139183587329</td>\n",
       "      <td>1027703139183587329</td>\n",
       "      <td>A total of 16 Argentine's will take part in th...</td>\n",
       "      <td>382431601</td>\n",
       "    </tr>\n",
       "    <tr>\n",
       "      <th>52</th>\n",
       "      <td>1027702123797114880</td>\n",
       "      <td>1027702123797114880</td>\n",
       "      <td>If you're still dealing with #WorldCup withdra...</td>\n",
       "      <td>27931710</td>\n",
       "    </tr>\n",
       "    <tr>\n",
       "      <th>53</th>\n",
       "      <td>1027702123797114880</td>\n",
       "      <td>1027704995917914112</td>\n",
       "      <td>@cbctom I can’t see anyone winning the EPL oth...</td>\n",
       "      <td>878086126552006656</td>\n",
       "    </tr>\n",
       "    <tr>\n",
       "      <th>54</th>\n",
       "      <td>1027702123797114880</td>\n",
       "      <td>1027705671184261120</td>\n",
       "      <td>@SiTurn62 Good assessment Simon...my Reds will...</td>\n",
       "      <td>27931710</td>\n",
       "    </tr>\n",
       "    <tr>\n",
       "      <th>55</th>\n",
       "      <td>1027702123797114880</td>\n",
       "      <td>1027705093892833280</td>\n",
       "      <td>@cbctom German Bundesliga won’t start for anot...</td>\n",
       "      <td>31342044</td>\n",
       "    </tr>\n",
       "    <tr>\n",
       "      <th>...</th>\n",
       "      <td>...</td>\n",
       "      <td>...</td>\n",
       "      <td>...</td>\n",
       "      <td>...</td>\n",
       "    </tr>\n",
       "    <tr>\n",
       "      <th>18520</th>\n",
       "      <td>1027347477173817346</td>\n",
       "      <td>1027347477173817346</td>\n",
       "      <td>Doing some late-night fantasy football tinkeri...</td>\n",
       "      <td>15332636</td>\n",
       "    </tr>\n",
       "    <tr>\n",
       "      <th>18521</th>\n",
       "      <td>1027347477173817346</td>\n",
       "      <td>1027356979105353729</td>\n",
       "      <td>@talkSPORT Are Mkhitaryan and Alisson good opt...</td>\n",
       "      <td>4353903375</td>\n",
       "    </tr>\n",
       "    <tr>\n",
       "      <th>18531</th>\n",
       "      <td>1027344358863863808</td>\n",
       "      <td>1027344358863863808</td>\n",
       "      <td>Manchester United legend Paul #Scholes believe...</td>\n",
       "      <td>4196267478</td>\n",
       "    </tr>\n",
       "    <tr>\n",
       "      <th>18532</th>\n",
       "      <td>1027343704103833606</td>\n",
       "      <td>1027343704103833606</td>\n",
       "      <td>Last summer the financial power of the Premier...</td>\n",
       "      <td>521238652</td>\n",
       "    </tr>\n",
       "    <tr>\n",
       "      <th>18533</th>\n",
       "      <td>1027343704103833606</td>\n",
       "      <td>1027347908474089472</td>\n",
       "      <td>@TifoFootball_ great content</td>\n",
       "      <td>1883409650</td>\n",
       "    </tr>\n",
       "  </tbody>\n",
       "</table>\n",
       "<p>7607 rows × 4 columns</p>\n",
       "</div>"
      ],
      "text/plain": [
       "           conversation_id              tweetId  \\\n",
       "18     1027703139183587329  1027703139183587329   \n",
       "52     1027702123797114880  1027702123797114880   \n",
       "53     1027702123797114880  1027704995917914112   \n",
       "54     1027702123797114880  1027705671184261120   \n",
       "55     1027702123797114880  1027705093892833280   \n",
       "...                    ...                  ...   \n",
       "18520  1027347477173817346  1027347477173817346   \n",
       "18521  1027347477173817346  1027356979105353729   \n",
       "18531  1027344358863863808  1027344358863863808   \n",
       "18532  1027343704103833606  1027343704103833606   \n",
       "18533  1027343704103833606  1027347908474089472   \n",
       "\n",
       "                                                 content              userId  \n",
       "18     A total of 16 Argentine's will take part in th...           382431601  \n",
       "52     If you're still dealing with #WorldCup withdra...            27931710  \n",
       "53     @cbctom I can’t see anyone winning the EPL oth...  878086126552006656  \n",
       "54     @SiTurn62 Good assessment Simon...my Reds will...            27931710  \n",
       "55     @cbctom German Bundesliga won’t start for anot...            31342044  \n",
       "...                                                  ...                 ...  \n",
       "18520  Doing some late-night fantasy football tinkeri...            15332636  \n",
       "18521  @talkSPORT Are Mkhitaryan and Alisson good opt...          4353903375  \n",
       "18531  Manchester United legend Paul #Scholes believe...          4196267478  \n",
       "18532  Last summer the financial power of the Premier...           521238652  \n",
       "18533                       @TifoFootball_ great content          1883409650  \n",
       "\n",
       "[7607 rows x 4 columns]"
      ]
     },
     "execution_count": 58,
     "metadata": {},
     "output_type": "execute_result"
    }
   ],
   "source": [
    "df_conv"
   ]
  },
  {
   "cell_type": "code",
   "execution_count": 66,
   "metadata": {},
   "outputs": [],
   "source": [
    "# selecting conversations that would create an edge\n",
    "res = df_conv[df_conv.duplicated(subset=[\"conversation_id\"], keep =False)]"
   ]
  },
  {
   "cell_type": "code",
   "execution_count": 67,
   "metadata": {},
   "outputs": [
    {
     "data": {
      "text/html": [
       "<div>\n",
       "<style scoped>\n",
       "    .dataframe tbody tr th:only-of-type {\n",
       "        vertical-align: middle;\n",
       "    }\n",
       "\n",
       "    .dataframe tbody tr th {\n",
       "        vertical-align: top;\n",
       "    }\n",
       "\n",
       "    .dataframe thead th {\n",
       "        text-align: right;\n",
       "    }\n",
       "</style>\n",
       "<table border=\"1\" class=\"dataframe\">\n",
       "  <thead>\n",
       "    <tr style=\"text-align: right;\">\n",
       "      <th></th>\n",
       "      <th>conversation_id</th>\n",
       "      <th>tweetId</th>\n",
       "      <th>content</th>\n",
       "      <th>userId</th>\n",
       "    </tr>\n",
       "  </thead>\n",
       "  <tbody>\n",
       "    <tr>\n",
       "      <th>52</th>\n",
       "      <td>1027702123797114880</td>\n",
       "      <td>1027702123797114880</td>\n",
       "      <td>If you're still dealing with #WorldCup withdra...</td>\n",
       "      <td>27931710</td>\n",
       "    </tr>\n",
       "    <tr>\n",
       "      <th>53</th>\n",
       "      <td>1027702123797114880</td>\n",
       "      <td>1027704995917914112</td>\n",
       "      <td>@cbctom I can’t see anyone winning the EPL oth...</td>\n",
       "      <td>878086126552006656</td>\n",
       "    </tr>\n",
       "    <tr>\n",
       "      <th>54</th>\n",
       "      <td>1027702123797114880</td>\n",
       "      <td>1027705671184261120</td>\n",
       "      <td>@SiTurn62 Good assessment Simon...my Reds will...</td>\n",
       "      <td>27931710</td>\n",
       "    </tr>\n",
       "    <tr>\n",
       "      <th>55</th>\n",
       "      <td>1027702123797114880</td>\n",
       "      <td>1027705093892833280</td>\n",
       "      <td>@cbctom German Bundesliga won’t start for anot...</td>\n",
       "      <td>31342044</td>\n",
       "    </tr>\n",
       "    <tr>\n",
       "      <th>56</th>\n",
       "      <td>1027702123797114880</td>\n",
       "      <td>1027705945315364864</td>\n",
       "      <td>@cbctom My son is so excited for it to start. ...</td>\n",
       "      <td>3310537599</td>\n",
       "    </tr>\n",
       "  </tbody>\n",
       "</table>\n",
       "</div>"
      ],
      "text/plain": [
       "        conversation_id              tweetId  \\\n",
       "52  1027702123797114880  1027702123797114880   \n",
       "53  1027702123797114880  1027704995917914112   \n",
       "54  1027702123797114880  1027705671184261120   \n",
       "55  1027702123797114880  1027705093892833280   \n",
       "56  1027702123797114880  1027705945315364864   \n",
       "\n",
       "                                              content              userId  \n",
       "52  If you're still dealing with #WorldCup withdra...            27931710  \n",
       "53  @cbctom I can’t see anyone winning the EPL oth...  878086126552006656  \n",
       "54  @SiTurn62 Good assessment Simon...my Reds will...            27931710  \n",
       "55  @cbctom German Bundesliga won’t start for anot...            31342044  \n",
       "56  @cbctom My son is so excited for it to start. ...          3310537599  "
      ]
     },
     "execution_count": 67,
     "metadata": {},
     "output_type": "execute_result"
    }
   ],
   "source": [
    "res.head()"
   ]
  },
  {
   "cell_type": "code",
   "execution_count": 68,
   "metadata": {},
   "outputs": [
    {
     "data": {
      "text/plain": [
       "7506"
      ]
     },
     "execution_count": 68,
     "metadata": {},
     "output_type": "execute_result"
    }
   ],
   "source": [
    "len(res)"
   ]
  },
  {
   "cell_type": "code",
   "execution_count": null,
   "metadata": {},
   "outputs": [],
   "source": [
    "df_links.rename(columns={0: \"source\", 1: \"target\"}, inplace = True)\n",
    "df_edges= df_links.astype({\"source\":str, \"target\":str}, copy= True)\n",
    "\n",
    "count_df = df_edges.groupby([\"source\", \"target\"]).size().reset_index(name='weight')"
   ]
  },
  {
   "cell_type": "code",
   "execution_count": 8,
   "metadata": {},
   "outputs": [],
   "source": [
    "# text data from the dataset \n",
    "tweets = res.content.values"
   ]
  },
  {
   "cell_type": "code",
   "execution_count": 9,
   "metadata": {},
   "outputs": [
    {
     "data": {
      "text/plain": [
       "'Back in the win column. Nice to end someone else’s winning streak too. Good to have @richarlison97 back as well. On to next week😎 https://t.co/yvFRTi8gqI'"
      ]
     },
     "execution_count": 9,
     "metadata": {},
     "output_type": "execute_result"
    }
   ],
   "source": [
    "tweets[95]"
   ]
  },
  {
   "cell_type": "code",
   "execution_count": 10,
   "metadata": {},
   "outputs": [
    {
     "name": "stderr",
     "output_type": "stream",
     "text": [
      "[nltk_data] Downloading package vader_lexicon to\n",
      "[nltk_data]     /home/marilin/nltk_data...\n",
      "[nltk_data]   Package vader_lexicon is already up-to-date!\n"
     ]
    },
    {
     "data": {
      "text/plain": [
       "{'neg': 0.0, 'neu': 0.886, 'pos': 0.114, 'compound': 0.5927}"
      ]
     },
     "execution_count": 10,
     "metadata": {},
     "output_type": "execute_result"
    }
   ],
   "source": [
    "# using a pre-trained sentiment classifier\n",
    "import nltk\n",
    "nltk.download('vader_lexicon')\n",
    "from nltk.sentiment.vader import SentimentIntensityAnalyzer\n",
    "\n",
    "\n",
    "sid = SentimentIntensityAnalyzer()\n",
    "sid.polarity_scores(tweets[96])"
   ]
  },
  {
   "cell_type": "code",
   "execution_count": 11,
   "metadata": {},
   "outputs": [],
   "source": [
    "# classifying - if neu: 0, if pos: 2, if neg: 1\n",
    "lst = []\n",
    "for i in range(len(tweets)):\n",
    "    if sid.polarity_scores(tweets[i])[\"neg\"] > 0.0 and sid.polarity_scores(tweets[i])[\"neu\"] > 0.0:\n",
    "        lst.append(1)\n",
    "    elif sid.polarity_scores(tweets[i])[\"pos\"] > 0.0 and sid.polarity_scores(tweets[i])[\"neu\"] > 0.0:\n",
    "        lst.append(2)\n",
    "    else: \n",
    "        lst.append(0)\n",
    "    "
   ]
  },
  {
   "cell_type": "code",
   "execution_count": 13,
   "metadata": {},
   "outputs": [
    {
     "name": "stderr",
     "output_type": "stream",
     "text": [
      "/tmp/ipykernel_44701/1405345047.py:1: SettingWithCopyWarning: \n",
      "A value is trying to be set on a copy of a slice from a DataFrame.\n",
      "Try using .loc[row_indexer,col_indexer] = value instead\n",
      "\n",
      "See the caveats in the documentation: https://pandas.pydata.org/pandas-docs/stable/user_guide/indexing.html#returning-a-view-versus-a-copy\n",
      "  res[\"sentiment\"] = lst\n"
     ]
    }
   ],
   "source": [
    "res[\"sentiment\"] = lst"
   ]
  },
  {
   "cell_type": "code",
   "execution_count": 14,
   "metadata": {},
   "outputs": [
    {
     "data": {
      "text/html": [
       "<div>\n",
       "<style scoped>\n",
       "    .dataframe tbody tr th:only-of-type {\n",
       "        vertical-align: middle;\n",
       "    }\n",
       "\n",
       "    .dataframe tbody tr th {\n",
       "        vertical-align: top;\n",
       "    }\n",
       "\n",
       "    .dataframe thead th {\n",
       "        text-align: right;\n",
       "    }\n",
       "</style>\n",
       "<table border=\"1\" class=\"dataframe\">\n",
       "  <thead>\n",
       "    <tr style=\"text-align: right;\">\n",
       "      <th></th>\n",
       "      <th>conversation_id</th>\n",
       "      <th>tweetId</th>\n",
       "      <th>content</th>\n",
       "      <th>userId</th>\n",
       "      <th>sentiment</th>\n",
       "    </tr>\n",
       "  </thead>\n",
       "  <tbody>\n",
       "    <tr>\n",
       "      <th>1</th>\n",
       "      <td>1027705638401523714</td>\n",
       "      <td>1027705638401523714</td>\n",
       "      <td>©️ THE #FPL CAPTAINS POLL ©️\\n\\nFantasy Premie...</td>\n",
       "      <td>470018406</td>\n",
       "      <td>0</td>\n",
       "    </tr>\n",
       "    <tr>\n",
       "      <th>2</th>\n",
       "      <td>1027705638401523714</td>\n",
       "      <td>1027804676241145856</td>\n",
       "      <td>@FPL_OWLBEAR @FFPundits If I was brave enough ...</td>\n",
       "      <td>860951831777771520</td>\n",
       "      <td>2</td>\n",
       "    </tr>\n",
       "    <tr>\n",
       "      <th>3</th>\n",
       "      <td>1027705638401523714</td>\n",
       "      <td>1027709014619172866</td>\n",
       "      <td>@FFPundits Any tips? https://t.co/VJz1wRpDbO</td>\n",
       "      <td>922075763507122176</td>\n",
       "      <td>0</td>\n",
       "    </tr>\n",
       "    <tr>\n",
       "      <th>4</th>\n",
       "      <td>1027705638401523714</td>\n",
       "      <td>1027805006274224128</td>\n",
       "      <td>@MarkyHHugget @FFPundits Cedric is probably 50...</td>\n",
       "      <td>860951831777771520</td>\n",
       "      <td>0</td>\n",
       "    </tr>\n",
       "    <tr>\n",
       "      <th>5</th>\n",
       "      <td>1027705638401523714</td>\n",
       "      <td>1027806698424213504</td>\n",
       "      <td>@FFPundits_Drew @FPL_OWLBEAR Same!</td>\n",
       "      <td>470018406</td>\n",
       "      <td>0</td>\n",
       "    </tr>\n",
       "  </tbody>\n",
       "</table>\n",
       "</div>"
      ],
      "text/plain": [
       "       conversation_id              tweetId  \\\n",
       "1  1027705638401523714  1027705638401523714   \n",
       "2  1027705638401523714  1027804676241145856   \n",
       "3  1027705638401523714  1027709014619172866   \n",
       "4  1027705638401523714  1027805006274224128   \n",
       "5  1027705638401523714  1027806698424213504   \n",
       "\n",
       "                                             content              userId  \\\n",
       "1  ©️ THE #FPL CAPTAINS POLL ©️\\n\\nFantasy Premie...           470018406   \n",
       "2  @FPL_OWLBEAR @FFPundits If I was brave enough ...  860951831777771520   \n",
       "3       @FFPundits Any tips? https://t.co/VJz1wRpDbO  922075763507122176   \n",
       "4  @MarkyHHugget @FFPundits Cedric is probably 50...  860951831777771520   \n",
       "5                 @FFPundits_Drew @FPL_OWLBEAR Same!           470018406   \n",
       "\n",
       "   sentiment  \n",
       "1          0  \n",
       "2          2  \n",
       "3          0  \n",
       "4          0  \n",
       "5          0  "
      ]
     },
     "execution_count": 14,
     "metadata": {},
     "output_type": "execute_result"
    }
   ],
   "source": [
    "res.head()"
   ]
  },
  {
   "cell_type": "code",
   "execution_count": 50,
   "metadata": {},
   "outputs": [
    {
     "data": {
      "text/html": [
       "<div>\n",
       "<style scoped>\n",
       "    .dataframe tbody tr th:only-of-type {\n",
       "        vertical-align: middle;\n",
       "    }\n",
       "\n",
       "    .dataframe tbody tr th {\n",
       "        vertical-align: top;\n",
       "    }\n",
       "\n",
       "    .dataframe thead th {\n",
       "        text-align: right;\n",
       "    }\n",
       "</style>\n",
       "<table border=\"1\" class=\"dataframe\">\n",
       "  <thead>\n",
       "    <tr style=\"text-align: right;\">\n",
       "      <th></th>\n",
       "      <th>conversation_id</th>\n",
       "      <th>tweetId</th>\n",
       "      <th>content</th>\n",
       "      <th>userId</th>\n",
       "      <th>sentiment</th>\n",
       "    </tr>\n",
       "  </thead>\n",
       "  <tbody>\n",
       "    <tr>\n",
       "      <th>1</th>\n",
       "      <td>1027705638401523714</td>\n",
       "      <td>1027705638401523714</td>\n",
       "      <td>©️ THE #FPL CAPTAINS POLL ©️\\n\\nFantasy Premie...</td>\n",
       "      <td>470018406</td>\n",
       "      <td>0</td>\n",
       "    </tr>\n",
       "    <tr>\n",
       "      <th>5</th>\n",
       "      <td>1027705638401523714</td>\n",
       "      <td>1027806698424213504</td>\n",
       "      <td>@FFPundits_Drew @FPL_OWLBEAR Same!</td>\n",
       "      <td>470018406</td>\n",
       "      <td>0</td>\n",
       "    </tr>\n",
       "  </tbody>\n",
       "</table>\n",
       "</div>"
      ],
      "text/plain": [
       "       conversation_id              tweetId  \\\n",
       "1  1027705638401523714  1027705638401523714   \n",
       "5  1027705638401523714  1027806698424213504   \n",
       "\n",
       "                                             content     userId  sentiment  \n",
       "1  ©️ THE #FPL CAPTAINS POLL ©️\\n\\nFantasy Premie...  470018406          0  \n",
       "5                 @FFPundits_Drew @FPL_OWLBEAR Same!  470018406          0  "
      ]
     },
     "execution_count": 50,
     "metadata": {},
     "output_type": "execute_result"
    }
   ],
   "source": [
    "res[(res.userId == 470018406) & (res.conversation_id == 1027705638401523714)]"
   ]
  },
  {
   "cell_type": "code",
   "execution_count": null,
   "metadata": {},
   "outputs": [],
   "source": [
    "df_links = (res.groupby(['conversation_id'])['userId'].apply(lambda x: pd.DataFrame(list(combinations(x,2))))\n",
    "      .reset_index(level=1, drop=True)\n",
    "      .reset_index())"
   ]
  },
  {
   "cell_type": "code",
   "execution_count": 26,
   "metadata": {},
   "outputs": [
    {
     "data": {
      "text/html": [
       "<div>\n",
       "<style scoped>\n",
       "    .dataframe tbody tr th:only-of-type {\n",
       "        vertical-align: middle;\n",
       "    }\n",
       "\n",
       "    .dataframe tbody tr th {\n",
       "        vertical-align: top;\n",
       "    }\n",
       "\n",
       "    .dataframe thead th {\n",
       "        text-align: right;\n",
       "    }\n",
       "</style>\n",
       "<table border=\"1\" class=\"dataframe\">\n",
       "  <thead>\n",
       "    <tr style=\"text-align: right;\">\n",
       "      <th></th>\n",
       "      <th>conversation_id</th>\n",
       "      <th>userId</th>\n",
       "      <th>sentiment</th>\n",
       "    </tr>\n",
       "  </thead>\n",
       "  <tbody>\n",
       "    <tr>\n",
       "      <th>0</th>\n",
       "      <td>1027275106458976256</td>\n",
       "      <td>196442913</td>\n",
       "      <td>6</td>\n",
       "    </tr>\n",
       "    <tr>\n",
       "      <th>1</th>\n",
       "      <td>1027275106458976256</td>\n",
       "      <td>299263920</td>\n",
       "      <td>2</td>\n",
       "    </tr>\n",
       "    <tr>\n",
       "      <th>2</th>\n",
       "      <td>1027275106458976256</td>\n",
       "      <td>364852345</td>\n",
       "      <td>1</td>\n",
       "    </tr>\n",
       "    <tr>\n",
       "      <th>3</th>\n",
       "      <td>1027275106458976256</td>\n",
       "      <td>729714363637084160</td>\n",
       "      <td>2</td>\n",
       "    </tr>\n",
       "    <tr>\n",
       "      <th>4</th>\n",
       "      <td>1027275106458976256</td>\n",
       "      <td>865239626163859456</td>\n",
       "      <td>13</td>\n",
       "    </tr>\n",
       "  </tbody>\n",
       "</table>\n",
       "</div>"
      ],
      "text/plain": [
       "       conversation_id              userId  sentiment\n",
       "0  1027275106458976256           196442913          6\n",
       "1  1027275106458976256           299263920          2\n",
       "2  1027275106458976256           364852345          1\n",
       "3  1027275106458976256  729714363637084160          2\n",
       "4  1027275106458976256  865239626163859456         13"
      ]
     },
     "execution_count": 26,
     "metadata": {},
     "output_type": "execute_result"
    }
   ],
   "source": [
    "df2 = res.groupby([\"conversation_id\", \"userId\"])[\"sentiment\"].sum().reset_index()\n",
    "df2.head()"
   ]
  },
  {
   "cell_type": "code",
   "execution_count": 15,
   "metadata": {},
   "outputs": [],
   "source": [
    "df_links = (res.groupby(['conversation_id'])['userId'].apply(lambda x: pd.DataFrame(list(combinations(x,2))))\n",
    "      .reset_index(level=1, drop=True)\n",
    "      .reset_index())\n",
    "\n",
    "df_links.rename(columns={0: \"source\", 1: \"target\"}, inplace = True)\n",
    "df_edges= df_links.astype({\"source\":str, \"target\":str}, copy= True)\n"
   ]
  },
  {
   "cell_type": "code",
   "execution_count": null,
   "metadata": {},
   "outputs": [],
   "source": [
    "count_df.to_csv(\"graph1_08_09.csv\", index = False)"
   ]
  },
  {
   "cell_type": "markdown",
   "metadata": {},
   "source": [
    "### testing for sentiment analysis "
   ]
  },
  {
   "cell_type": "code",
   "execution_count": 16,
   "metadata": {},
   "outputs": [
    {
     "data": {
      "text/html": [
       "<div>\n",
       "<style scoped>\n",
       "    .dataframe tbody tr th:only-of-type {\n",
       "        vertical-align: middle;\n",
       "    }\n",
       "\n",
       "    .dataframe tbody tr th {\n",
       "        vertical-align: top;\n",
       "    }\n",
       "\n",
       "    .dataframe thead th {\n",
       "        text-align: right;\n",
       "    }\n",
       "</style>\n",
       "<table border=\"1\" class=\"dataframe\">\n",
       "  <thead>\n",
       "    <tr style=\"text-align: right;\">\n",
       "      <th></th>\n",
       "      <th>conversation_id</th>\n",
       "      <th>source</th>\n",
       "      <th>target</th>\n",
       "    </tr>\n",
       "  </thead>\n",
       "  <tbody>\n",
       "    <tr>\n",
       "      <th>0</th>\n",
       "      <td>1027275106458976256</td>\n",
       "      <td>299263920</td>\n",
       "      <td>1027461210353135616</td>\n",
       "    </tr>\n",
       "    <tr>\n",
       "      <th>1</th>\n",
       "      <td>1027275106458976256</td>\n",
       "      <td>299263920</td>\n",
       "      <td>364852345</td>\n",
       "    </tr>\n",
       "    <tr>\n",
       "      <th>2</th>\n",
       "      <td>1027275106458976256</td>\n",
       "      <td>299263920</td>\n",
       "      <td>948683826313809925</td>\n",
       "    </tr>\n",
       "    <tr>\n",
       "      <th>3</th>\n",
       "      <td>1027275106458976256</td>\n",
       "      <td>299263920</td>\n",
       "      <td>865239626163859456</td>\n",
       "    </tr>\n",
       "    <tr>\n",
       "      <th>4</th>\n",
       "      <td>1027275106458976256</td>\n",
       "      <td>299263920</td>\n",
       "      <td>1027461210353135616</td>\n",
       "    </tr>\n",
       "  </tbody>\n",
       "</table>\n",
       "</div>"
      ],
      "text/plain": [
       "       conversation_id     source               target\n",
       "0  1027275106458976256  299263920  1027461210353135616\n",
       "1  1027275106458976256  299263920            364852345\n",
       "2  1027275106458976256  299263920   948683826313809925\n",
       "3  1027275106458976256  299263920   865239626163859456\n",
       "4  1027275106458976256  299263920  1027461210353135616"
      ]
     },
     "execution_count": 16,
     "metadata": {},
     "output_type": "execute_result"
    }
   ],
   "source": [
    "df_links.head()"
   ]
  },
  {
   "cell_type": "code",
   "execution_count": 36,
   "metadata": {},
   "outputs": [
    {
     "data": {
      "text/html": [
       "<div>\n",
       "<style scoped>\n",
       "    .dataframe tbody tr th:only-of-type {\n",
       "        vertical-align: middle;\n",
       "    }\n",
       "\n",
       "    .dataframe tbody tr th {\n",
       "        vertical-align: top;\n",
       "    }\n",
       "\n",
       "    .dataframe thead th {\n",
       "        text-align: right;\n",
       "    }\n",
       "</style>\n",
       "<table border=\"1\" class=\"dataframe\">\n",
       "  <thead>\n",
       "    <tr style=\"text-align: right;\">\n",
       "      <th></th>\n",
       "      <th>conversation_id_x</th>\n",
       "      <th>source</th>\n",
       "      <th>target</th>\n",
       "      <th>conversation_id_y</th>\n",
       "      <th>userId</th>\n",
       "      <th>sentiment</th>\n",
       "    </tr>\n",
       "  </thead>\n",
       "  <tbody>\n",
       "    <tr>\n",
       "      <th>0</th>\n",
       "      <td>1027275106458976256</td>\n",
       "      <td>299263920</td>\n",
       "      <td>1027461210353135616</td>\n",
       "      <td>1027275106458976256</td>\n",
       "      <td>1027461210353135616</td>\n",
       "      <td>1</td>\n",
       "    </tr>\n",
       "    <tr>\n",
       "      <th>1</th>\n",
       "      <td>1027275106458976256</td>\n",
       "      <td>299263920</td>\n",
       "      <td>1027461210353135616</td>\n",
       "      <td>1027275106458976256</td>\n",
       "      <td>1027461210353135616</td>\n",
       "      <td>1</td>\n",
       "    </tr>\n",
       "    <tr>\n",
       "      <th>2</th>\n",
       "      <td>1027275106458976256</td>\n",
       "      <td>299263920</td>\n",
       "      <td>1027461210353135616</td>\n",
       "      <td>1027275106458976256</td>\n",
       "      <td>1027461210353135616</td>\n",
       "      <td>1</td>\n",
       "    </tr>\n",
       "    <tr>\n",
       "      <th>3</th>\n",
       "      <td>1027275106458976256</td>\n",
       "      <td>299263920</td>\n",
       "      <td>1027461210353135616</td>\n",
       "      <td>1027275106458976256</td>\n",
       "      <td>1027461210353135616</td>\n",
       "      <td>1</td>\n",
       "    </tr>\n",
       "    <tr>\n",
       "      <th>4</th>\n",
       "      <td>1027275106458976256</td>\n",
       "      <td>299263920</td>\n",
       "      <td>1027461210353135616</td>\n",
       "      <td>1027275106458976256</td>\n",
       "      <td>1027461210353135616</td>\n",
       "      <td>1</td>\n",
       "    </tr>\n",
       "  </tbody>\n",
       "</table>\n",
       "</div>"
      ],
      "text/plain": [
       "     conversation_id_x     source               target    conversation_id_y  \\\n",
       "0  1027275106458976256  299263920  1027461210353135616  1027275106458976256   \n",
       "1  1027275106458976256  299263920  1027461210353135616  1027275106458976256   \n",
       "2  1027275106458976256  299263920  1027461210353135616  1027275106458976256   \n",
       "3  1027275106458976256  299263920  1027461210353135616  1027275106458976256   \n",
       "4  1027275106458976256  299263920  1027461210353135616  1027275106458976256   \n",
       "\n",
       "                userId  sentiment  \n",
       "0  1027461210353135616          1  \n",
       "1  1027461210353135616          1  \n",
       "2  1027461210353135616          1  \n",
       "3  1027461210353135616          1  \n",
       "4  1027461210353135616          1  "
      ]
     },
     "execution_count": 36,
     "metadata": {},
     "output_type": "execute_result"
    }
   ],
   "source": [
    "df2 = df_links.copy(deep = True)\n",
    "df2 = df2.merge(res[[\"conversation_id\", \"userId\", \"sentiment\"]], how = \"left\", left_on = \"target\", right_on = \"userId\")\n",
    "df2.head()"
   ]
  },
  {
   "cell_type": "code",
   "execution_count": 37,
   "metadata": {},
   "outputs": [],
   "source": [
    "df2 = df2.drop(columns= [\"conversation_id_y\", \"userId\"])"
   ]
  },
  {
   "cell_type": "code",
   "execution_count": 38,
   "metadata": {},
   "outputs": [],
   "source": [
    "df2.rename(columns = {'conversation_id_x':'conversation_id'}, inplace = True)"
   ]
  },
  {
   "cell_type": "code",
   "execution_count": 55,
   "metadata": {},
   "outputs": [],
   "source": [
    "# now weight assumes both mutliple connections and the same sentiment\n",
    "count_df = df2.groupby([\"source\", \"target\", \"sentiment\"]).size().reset_index(name='weight')"
   ]
  },
  {
   "cell_type": "code",
   "execution_count": 57,
   "metadata": {},
   "outputs": [
    {
     "data": {
      "text/html": [
       "<div>\n",
       "<style scoped>\n",
       "    .dataframe tbody tr th:only-of-type {\n",
       "        vertical-align: middle;\n",
       "    }\n",
       "\n",
       "    .dataframe tbody tr th {\n",
       "        vertical-align: top;\n",
       "    }\n",
       "\n",
       "    .dataframe thead th {\n",
       "        text-align: right;\n",
       "    }\n",
       "</style>\n",
       "<table border=\"1\" class=\"dataframe\">\n",
       "  <thead>\n",
       "    <tr style=\"text-align: right;\">\n",
       "      <th></th>\n",
       "      <th>source</th>\n",
       "      <th>target</th>\n",
       "      <th>sentiment</th>\n",
       "      <th>weight</th>\n",
       "    </tr>\n",
       "  </thead>\n",
       "  <tbody>\n",
       "    <tr>\n",
       "      <th>2</th>\n",
       "      <td>58123</td>\n",
       "      <td>1533467245</td>\n",
       "      <td>0</td>\n",
       "      <td>6</td>\n",
       "    </tr>\n",
       "    <tr>\n",
       "      <th>3</th>\n",
       "      <td>58123</td>\n",
       "      <td>2474568204</td>\n",
       "      <td>0</td>\n",
       "      <td>4</td>\n",
       "    </tr>\n",
       "    <tr>\n",
       "      <th>4</th>\n",
       "      <td>58123</td>\n",
       "      <td>736726365534179328</td>\n",
       "      <td>1</td>\n",
       "      <td>2</td>\n",
       "    </tr>\n",
       "    <tr>\n",
       "      <th>5</th>\n",
       "      <td>783931</td>\n",
       "      <td>25719315</td>\n",
       "      <td>1</td>\n",
       "      <td>6</td>\n",
       "    </tr>\n",
       "    <tr>\n",
       "      <th>6</th>\n",
       "      <td>783931</td>\n",
       "      <td>35705804</td>\n",
       "      <td>0</td>\n",
       "      <td>1</td>\n",
       "    </tr>\n",
       "    <tr>\n",
       "      <th>...</th>\n",
       "      <td>...</td>\n",
       "      <td>...</td>\n",
       "      <td>...</td>\n",
       "      <td>...</td>\n",
       "    </tr>\n",
       "    <tr>\n",
       "      <th>333395</th>\n",
       "      <td>1421584162935431168</td>\n",
       "      <td>943550046745780227</td>\n",
       "      <td>1</td>\n",
       "      <td>10</td>\n",
       "    </tr>\n",
       "    <tr>\n",
       "      <th>333396</th>\n",
       "      <td>1421584162935431168</td>\n",
       "      <td>943550046745780227</td>\n",
       "      <td>2</td>\n",
       "      <td>20</td>\n",
       "    </tr>\n",
       "    <tr>\n",
       "      <th>333397</th>\n",
       "      <td>1421584162935431168</td>\n",
       "      <td>1004860303199399937</td>\n",
       "      <td>0</td>\n",
       "      <td>14</td>\n",
       "    </tr>\n",
       "    <tr>\n",
       "      <th>333398</th>\n",
       "      <td>1421584162935431168</td>\n",
       "      <td>1004860303199399937</td>\n",
       "      <td>1</td>\n",
       "      <td>14</td>\n",
       "    </tr>\n",
       "    <tr>\n",
       "      <th>333399</th>\n",
       "      <td>1421584162935431168</td>\n",
       "      <td>1004860303199399937</td>\n",
       "      <td>2</td>\n",
       "      <td>28</td>\n",
       "    </tr>\n",
       "  </tbody>\n",
       "</table>\n",
       "<p>328913 rows × 4 columns</p>\n",
       "</div>"
      ],
      "text/plain": [
       "                     source               target  sentiment  weight\n",
       "2                     58123           1533467245          0       6\n",
       "3                     58123           2474568204          0       4\n",
       "4                     58123   736726365534179328          1       2\n",
       "5                    783931             25719315          1       6\n",
       "6                    783931             35705804          0       1\n",
       "...                     ...                  ...        ...     ...\n",
       "333395  1421584162935431168   943550046745780227          1      10\n",
       "333396  1421584162935431168   943550046745780227          2      20\n",
       "333397  1421584162935431168  1004860303199399937          0      14\n",
       "333398  1421584162935431168  1004860303199399937          1      14\n",
       "333399  1421584162935431168  1004860303199399937          2      28\n",
       "\n",
       "[328913 rows x 4 columns]"
      ]
     },
     "execution_count": 57,
     "metadata": {},
     "output_type": "execute_result"
    }
   ],
   "source": [
    "# removing rows where the source and target are the same \n",
    "count_df = count_df[count_df[\"source\"] != count_df[\"target\"]]\n",
    "count_df"
   ]
  },
  {
   "cell_type": "markdown",
   "metadata": {},
   "source": []
  }
 ],
 "metadata": {
  "interpreter": {
   "hash": "916dbcbb3f70747c44a77c7bcd40155683ae19c65e1c03b4aa3499c5328201f1"
  },
  "kernelspec": {
   "display_name": "NN_project",
   "language": "python",
   "name": "nn_project"
  },
  "language_info": {
   "codemirror_mode": {
    "name": "ipython",
    "version": 3
   },
   "file_extension": ".py",
   "mimetype": "text/x-python",
   "name": "python",
   "nbconvert_exporter": "python",
   "pygments_lexer": "ipython3",
   "version": "3.9.12"
  }
 },
 "nbformat": 4,
 "nbformat_minor": 4
}
