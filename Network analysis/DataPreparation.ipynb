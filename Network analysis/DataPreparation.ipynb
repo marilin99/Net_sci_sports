{
 "cells": [
  {
   "cell_type": "code",
   "execution_count": 4,
   "metadata": {},
   "outputs": [],
   "source": [
    "#import pandas as pd\n",
    "#import numpy as np\n",
    "from FileHelper import * "
   ]
  },
  {
   "cell_type": "markdown",
   "metadata": {},
   "source": [
    "### Modifying data for graphs\n",
    "\n",
    "*Preparing data for descriptive analysis and visualisation*"
   ]
  },
  {
   "cell_type": "markdown",
   "metadata": {},
   "source": [
    "#### 1. Listing  source files"
   ]
  },
  {
   "cell_type": "code",
   "execution_count": 5,
   "metadata": {},
   "outputs": [],
   "source": [
    "list_of_files = ['./Data/graph_csv/graph_conversations_' + x + '.csv' for x in ['2018-08-09', '2018-08-10', '2018-08-11', '2019-05-11', '2019-05-12', '2019-05-13']]"
   ]
  },
  {
   "cell_type": "markdown",
   "metadata": {},
   "source": [
    "#### 2. Creating function to go through nessecary transformations"
   ]
  },
  {
   "cell_type": "code",
   "execution_count": 6,
   "metadata": {},
   "outputs": [],
   "source": [
    "def transform(source):\n",
    "    source_date = source[37:47]\n",
    "    df = to_df(source)\n",
    "    df = switch_direction(df)\n",
    "    df_collapsed = collaps_to_wo_sentiment(df)\n",
    "    graph_to_csv(df, source_date)\n",
    "    collapsed_to_csv(df_collapsed, source_date)"
   ]
  },
  {
   "cell_type": "code",
   "execution_count": 7,
   "metadata": {},
   "outputs": [],
   "source": [
    "for f in list_of_files: transform(f)"
   ]
  }
 ],
 "metadata": {
  "interpreter": {
   "hash": "9875ef4d12ed64a86db83005ea8ab8b9688b2479ace70cfe1ecd436b96a4dbe3"
  },
  "kernelspec": {
   "display_name": "Python 3.6.13 ('networks.3.7.13')",
   "language": "python",
   "name": "python3"
  },
  "language_info": {
   "codemirror_mode": {
    "name": "ipython",
    "version": 3
   },
   "file_extension": ".py",
   "mimetype": "text/x-python",
   "name": "python",
   "nbconvert_exporter": "python",
   "pygments_lexer": "ipython3",
   "version": "3.6.13"
  },
  "orig_nbformat": 4
 },
 "nbformat": 4,
 "nbformat_minor": 2
}
