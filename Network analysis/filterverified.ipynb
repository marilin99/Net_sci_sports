{
 "cells": [
  {
   "cell_type": "code",
   "execution_count": 76,
   "metadata": {},
   "outputs": [],
   "source": [
    "import pandas as pd"
   ]
  },
  {
   "cell_type": "code",
   "execution_count": 78,
   "metadata": {},
   "outputs": [],
   "source": [
    "df = pd.read_csv('../Data/premier_league_2018-08-09.csv')\n",
    "df_conv = pd.read_csv('../Data/conversations_2018-08-09.csv')"
   ]
  },
  {
   "cell_type": "code",
   "execution_count": 79,
   "metadata": {},
   "outputs": [
    {
     "data": {
      "text/plain": [
       "Index(['Tweet_url', 'Datetime', 'Text', 'Tweet Id', 'Username', 'User_id',\n",
       "       'Description', 'Display_name', 'Verified', 'Created_at',\n",
       "       'Followers_count', 'Friends_count', 'Status_count', 'Favourite_count',\n",
       "       'Listed_count', 'Media_count', 'Location', 'Protected', 'Reply_count',\n",
       "       'Retweet_count', 'Like_count', 'Quote_count', 'Lang', 'Source_label',\n",
       "       'inReplyToTweetId', 'conversationId', 'Media', 'Coordinates', 'Place',\n",
       "       'Hashtags', 'Cashtags'],\n",
       "      dtype='object')"
      ]
     },
     "execution_count": 79,
     "metadata": {},
     "output_type": "execute_result"
    }
   ],
   "source": [
    "df.columns"
   ]
  },
  {
   "cell_type": "code",
   "execution_count": 80,
   "metadata": {},
   "outputs": [
    {
     "data": {
      "text/plain": [
       "False    25481\n",
       "True      2213\n",
       "Name: Verified, dtype: int64"
      ]
     },
     "execution_count": 80,
     "metadata": {},
     "output_type": "execute_result"
    }
   ],
   "source": [
    "df.Verified.value_counts()"
   ]
  },
  {
   "cell_type": "code",
   "execution_count": 81,
   "metadata": {},
   "outputs": [],
   "source": [
    "df = df[df['Verified']]\n",
    "df.Verified.value_counts()\n",
    "verTweets = df['Tweet Id']"
   ]
  },
  {
   "cell_type": "code",
   "execution_count": 90,
   "metadata": {},
   "outputs": [],
   "source": [
    "df_conv = df_conv[df_conv.conversation_id.isin(verTweets)]"
   ]
  },
  {
   "cell_type": "code",
   "execution_count": 91,
   "metadata": {},
   "outputs": [
    {
     "data": {
      "text/plain": [
       "(7607, 5)"
      ]
     },
     "execution_count": 91,
     "metadata": {},
     "output_type": "execute_result"
    }
   ],
   "source": [
    "df_conv.shape"
   ]
  }
 ],
 "metadata": {
  "interpreter": {
   "hash": "9990c6f5bd38b0ce6894d43de2eb6ab098c2a4ce77bccaedfa2a00aa9a680a81"
  },
  "kernelspec": {
   "display_name": "Python 3.8.1 ('twitter')",
   "language": "python",
   "name": "python3"
  },
  "language_info": {
   "codemirror_mode": {
    "name": "ipython",
    "version": 3
   },
   "file_extension": ".py",
   "mimetype": "text/x-python",
   "name": "python",
   "nbconvert_exporter": "python",
   "pygments_lexer": "ipython3",
   "version": "3.8.1"
  },
  "orig_nbformat": 4
 },
 "nbformat": 4,
 "nbformat_minor": 2
}
